{
 "cells": [
  {
   "cell_type": "markdown",
   "id": "79fdf0d2",
   "metadata": {
    "papermill": {
     "duration": 0.01002,
     "end_time": "2023-06-05T10:06:46.131509",
     "exception": false,
     "start_time": "2023-06-05T10:06:46.121489",
     "status": "completed"
    },
    "tags": []
   },
   "source": [
    "# ICR - Identifying Age-Related Conditions Dataset with TensorFlow Decision Forests"
   ]
  },
  {
   "cell_type": "markdown",
   "id": "48452665",
   "metadata": {
    "papermill": {
     "duration": 0.009462,
     "end_time": "2023-06-05T10:06:46.150240",
     "exception": false,
     "start_time": "2023-06-05T10:06:46.140778",
     "status": "completed"
    },
    "tags": []
   },
   "source": [
    "This notebook walks you through how to train a baseline Random Forest model using TensorFlow Decision Forests on the ICR - Identifying Age-Related Conditions dataset made available for this competition. The goal of the model is to predict if a person has one or more of any of three medical conditions or none.\n",
    "\n",
    "Roughly, the code will look as follows:\n",
    "\n",
    "```\n",
    "import tensorflow_decision_forests as tfdf\n",
    "import pandas as pd\n",
    "\n",
    "dataset = pd.read_csv(\"project/dataset.csv\")\n",
    "tf_dataset = tfdf.keras.pd_dataframe_to_tf_dataset(dataset, label=\"my_label\")\n",
    "\n",
    "model = tfdf.keras.RandomForestModel()\n",
    "model.fit(tf_dataset)\n",
    "\n",
    "print(model.summary())\n",
    "```\n",
    "\n",
    "Decision Forests are a family of tree-based models including Random Forests and Gradient Boosted Trees. They are the best place to start when working with tabular data, and will often outperform (or provide a strong baseline) before you begin experimenting with neural networks."
   ]
  },
  {
   "cell_type": "markdown",
   "id": "91c21804",
   "metadata": {
    "papermill": {
     "duration": 0.008785,
     "end_time": "2023-06-05T10:06:46.168104",
     "exception": false,
     "start_time": "2023-06-05T10:06:46.159319",
     "status": "completed"
    },
    "tags": []
   },
   "source": [
    "# Import the libraries"
   ]
  },
  {
   "cell_type": "code",
   "execution_count": 1,
   "id": "5fa0b36b",
   "metadata": {
    "execution": {
     "iopub.execute_input": "2023-06-05T10:06:46.188776Z",
     "iopub.status.busy": "2023-06-05T10:06:46.188139Z",
     "iopub.status.idle": "2023-06-05T10:06:59.642022Z",
     "shell.execute_reply": "2023-06-05T10:06:59.641084Z"
    },
    "papermill": {
     "duration": 13.467165,
     "end_time": "2023-06-05T10:06:59.644483",
     "exception": false,
     "start_time": "2023-06-05T10:06:46.177318",
     "status": "completed"
    },
    "tags": []
   },
   "outputs": [
    {
     "name": "stderr",
     "output_type": "stream",
     "text": [
      "/opt/conda/lib/python3.10/site-packages/tensorflow_io/python/ops/__init__.py:98: UserWarning: unable to load libtensorflow_io_plugins.so: unable to open file: libtensorflow_io_plugins.so, from paths: ['/opt/conda/lib/python3.10/site-packages/tensorflow_io/python/ops/libtensorflow_io_plugins.so']\n",
      "caused by: ['/opt/conda/lib/python3.10/site-packages/tensorflow_io/python/ops/libtensorflow_io_plugins.so: undefined symbol: _ZN3tsl6StatusC1EN10tensorflow5error4CodeESt17basic_string_viewIcSt11char_traitsIcEENS_14SourceLocationE']\n",
      "  warnings.warn(f\"unable to load libtensorflow_io_plugins.so: {e}\")\n",
      "/opt/conda/lib/python3.10/site-packages/tensorflow_io/python/ops/__init__.py:104: UserWarning: file system plugins are not loaded: unable to open file: libtensorflow_io.so, from paths: ['/opt/conda/lib/python3.10/site-packages/tensorflow_io/python/ops/libtensorflow_io.so']\n",
      "caused by: ['/opt/conda/lib/python3.10/site-packages/tensorflow_io/python/ops/libtensorflow_io.so: undefined symbol: _ZTVN10tensorflow13GcsFileSystemE']\n",
      "  warnings.warn(f\"file system plugins are not loaded: {e}\")\n"
     ]
    }
   ],
   "source": [
    "import tensorflow as tf\n",
    "import tensorflow_decision_forests as tfdf\n",
    "import pandas as pd\n",
    "import numpy as np\n",
    "import seaborn as sns\n",
    "import matplotlib.pyplot as plt\n",
    "\n",
    "from sklearn.model_selection import KFold"
   ]
  },
  {
   "cell_type": "code",
   "execution_count": 2,
   "id": "f323a06d",
   "metadata": {
    "execution": {
     "iopub.execute_input": "2023-06-05T10:06:59.667673Z",
     "iopub.status.busy": "2023-06-05T10:06:59.665668Z",
     "iopub.status.idle": "2023-06-05T10:06:59.674239Z",
     "shell.execute_reply": "2023-06-05T10:06:59.671914Z"
    },
    "papermill": {
     "duration": 0.022571,
     "end_time": "2023-06-05T10:06:59.676965",
     "exception": false,
     "start_time": "2023-06-05T10:06:59.654394",
     "status": "completed"
    },
    "tags": []
   },
   "outputs": [
    {
     "name": "stdout",
     "output_type": "stream",
     "text": [
      "TensorFlow v2.12.0\n",
      "TensorFlow Decision Forests v1.3.0\n"
     ]
    }
   ],
   "source": [
    "print(\"TensorFlow v\" + tf.__version__)\n",
    "print(\"TensorFlow Decision Forests v\" + tfdf.__version__)"
   ]
  },
  {
   "cell_type": "markdown",
   "id": "5a24d982",
   "metadata": {
    "papermill": {
     "duration": 0.009721,
     "end_time": "2023-06-05T10:06:59.696796",
     "exception": false,
     "start_time": "2023-06-05T10:06:59.687075",
     "status": "completed"
    },
    "tags": []
   },
   "source": [
    "# Load the Dataset"
   ]
  },
  {
   "cell_type": "code",
   "execution_count": 3,
   "id": "3844fe1b",
   "metadata": {
    "execution": {
     "iopub.execute_input": "2023-06-05T10:06:59.718571Z",
     "iopub.status.busy": "2023-06-05T10:06:59.718174Z",
     "iopub.status.idle": "2023-06-05T10:06:59.756319Z",
     "shell.execute_reply": "2023-06-05T10:06:59.754487Z"
    },
    "papermill": {
     "duration": 0.052321,
     "end_time": "2023-06-05T10:06:59.758964",
     "exception": false,
     "start_time": "2023-06-05T10:06:59.706643",
     "status": "completed"
    },
    "tags": []
   },
   "outputs": [
    {
     "name": "stdout",
     "output_type": "stream",
     "text": [
      "Full train dataset shape is (617, 58)\n"
     ]
    }
   ],
   "source": [
    "dataset_df = pd.read_csv('/kaggle/input/icr-identify-age-related-conditions/train.csv')\n",
    "print(\"Full train dataset shape is {}\".format(dataset_df.shape))"
   ]
  },
  {
   "cell_type": "markdown",
   "id": "0ba79e9d",
   "metadata": {
    "papermill": {
     "duration": 0.009865,
     "end_time": "2023-06-05T10:06:59.779209",
     "exception": false,
     "start_time": "2023-06-05T10:06:59.769344",
     "status": "completed"
    },
    "tags": []
   },
   "source": [
    "The data is composed of 58 columns and 617 entries. We can see all 58 dimensions(results will be truncated since the number of columns is big) of our dataset by printing out the first 5 entries using the following code:"
   ]
  },
  {
   "cell_type": "code",
   "execution_count": 4,
   "id": "6b6fb66d",
   "metadata": {
    "execution": {
     "iopub.execute_input": "2023-06-05T10:06:59.801703Z",
     "iopub.status.busy": "2023-06-05T10:06:59.801275Z",
     "iopub.status.idle": "2023-06-05T10:06:59.853526Z",
     "shell.execute_reply": "2023-06-05T10:06:59.852210Z"
    },
    "papermill": {
     "duration": 0.066436,
     "end_time": "2023-06-05T10:06:59.855837",
     "exception": false,
     "start_time": "2023-06-05T10:06:59.789401",
     "status": "completed"
    },
    "tags": []
   },
   "outputs": [
    {
     "data": {
      "text/html": [
       "<div>\n",
       "<style scoped>\n",
       "    .dataframe tbody tr th:only-of-type {\n",
       "        vertical-align: middle;\n",
       "    }\n",
       "\n",
       "    .dataframe tbody tr th {\n",
       "        vertical-align: top;\n",
       "    }\n",
       "\n",
       "    .dataframe thead th {\n",
       "        text-align: right;\n",
       "    }\n",
       "</style>\n",
       "<table border=\"1\" class=\"dataframe\">\n",
       "  <thead>\n",
       "    <tr style=\"text-align: right;\">\n",
       "      <th></th>\n",
       "      <th>Id</th>\n",
       "      <th>AB</th>\n",
       "      <th>AF</th>\n",
       "      <th>AH</th>\n",
       "      <th>AM</th>\n",
       "      <th>AR</th>\n",
       "      <th>AX</th>\n",
       "      <th>AY</th>\n",
       "      <th>AZ</th>\n",
       "      <th>BC</th>\n",
       "      <th>...</th>\n",
       "      <th>FL</th>\n",
       "      <th>FR</th>\n",
       "      <th>FS</th>\n",
       "      <th>GB</th>\n",
       "      <th>GE</th>\n",
       "      <th>GF</th>\n",
       "      <th>GH</th>\n",
       "      <th>GI</th>\n",
       "      <th>GL</th>\n",
       "      <th>Class</th>\n",
       "    </tr>\n",
       "  </thead>\n",
       "  <tbody>\n",
       "    <tr>\n",
       "      <th>0</th>\n",
       "      <td>000ff2bfdfe9</td>\n",
       "      <td>0.209377</td>\n",
       "      <td>3109.03329</td>\n",
       "      <td>85.200147</td>\n",
       "      <td>22.394407</td>\n",
       "      <td>8.138688</td>\n",
       "      <td>0.699861</td>\n",
       "      <td>0.025578</td>\n",
       "      <td>9.812214</td>\n",
       "      <td>5.555634</td>\n",
       "      <td>...</td>\n",
       "      <td>7.298162</td>\n",
       "      <td>1.73855</td>\n",
       "      <td>0.094822</td>\n",
       "      <td>11.339138</td>\n",
       "      <td>72.611063</td>\n",
       "      <td>2003.810319</td>\n",
       "      <td>22.136229</td>\n",
       "      <td>69.834944</td>\n",
       "      <td>0.120343</td>\n",
       "      <td>1</td>\n",
       "    </tr>\n",
       "    <tr>\n",
       "      <th>1</th>\n",
       "      <td>007255e47698</td>\n",
       "      <td>0.145282</td>\n",
       "      <td>978.76416</td>\n",
       "      <td>85.200147</td>\n",
       "      <td>36.968889</td>\n",
       "      <td>8.138688</td>\n",
       "      <td>3.632190</td>\n",
       "      <td>0.025578</td>\n",
       "      <td>13.517790</td>\n",
       "      <td>1.229900</td>\n",
       "      <td>...</td>\n",
       "      <td>0.173229</td>\n",
       "      <td>0.49706</td>\n",
       "      <td>0.568932</td>\n",
       "      <td>9.292698</td>\n",
       "      <td>72.611063</td>\n",
       "      <td>27981.562750</td>\n",
       "      <td>29.135430</td>\n",
       "      <td>32.131996</td>\n",
       "      <td>21.978000</td>\n",
       "      <td>0</td>\n",
       "    </tr>\n",
       "    <tr>\n",
       "      <th>2</th>\n",
       "      <td>013f2bd269f5</td>\n",
       "      <td>0.470030</td>\n",
       "      <td>2635.10654</td>\n",
       "      <td>85.200147</td>\n",
       "      <td>32.360553</td>\n",
       "      <td>8.138688</td>\n",
       "      <td>6.732840</td>\n",
       "      <td>0.025578</td>\n",
       "      <td>12.824570</td>\n",
       "      <td>1.229900</td>\n",
       "      <td>...</td>\n",
       "      <td>7.709560</td>\n",
       "      <td>0.97556</td>\n",
       "      <td>1.198821</td>\n",
       "      <td>37.077772</td>\n",
       "      <td>88.609437</td>\n",
       "      <td>13676.957810</td>\n",
       "      <td>28.022851</td>\n",
       "      <td>35.192676</td>\n",
       "      <td>0.196941</td>\n",
       "      <td>0</td>\n",
       "    </tr>\n",
       "    <tr>\n",
       "      <th>3</th>\n",
       "      <td>043ac50845d5</td>\n",
       "      <td>0.252107</td>\n",
       "      <td>3819.65177</td>\n",
       "      <td>120.201618</td>\n",
       "      <td>77.112203</td>\n",
       "      <td>8.138688</td>\n",
       "      <td>3.685344</td>\n",
       "      <td>0.025578</td>\n",
       "      <td>11.053708</td>\n",
       "      <td>1.229900</td>\n",
       "      <td>...</td>\n",
       "      <td>6.122162</td>\n",
       "      <td>0.49706</td>\n",
       "      <td>0.284466</td>\n",
       "      <td>18.529584</td>\n",
       "      <td>82.416803</td>\n",
       "      <td>2094.262452</td>\n",
       "      <td>39.948656</td>\n",
       "      <td>90.493248</td>\n",
       "      <td>0.155829</td>\n",
       "      <td>0</td>\n",
       "    </tr>\n",
       "    <tr>\n",
       "      <th>4</th>\n",
       "      <td>044fb8a146ec</td>\n",
       "      <td>0.380297</td>\n",
       "      <td>3733.04844</td>\n",
       "      <td>85.200147</td>\n",
       "      <td>14.103738</td>\n",
       "      <td>8.138688</td>\n",
       "      <td>3.942255</td>\n",
       "      <td>0.054810</td>\n",
       "      <td>3.396778</td>\n",
       "      <td>102.151980</td>\n",
       "      <td>...</td>\n",
       "      <td>8.153058</td>\n",
       "      <td>48.50134</td>\n",
       "      <td>0.121914</td>\n",
       "      <td>16.408728</td>\n",
       "      <td>146.109943</td>\n",
       "      <td>8524.370502</td>\n",
       "      <td>45.381316</td>\n",
       "      <td>36.262628</td>\n",
       "      <td>0.096614</td>\n",
       "      <td>1</td>\n",
       "    </tr>\n",
       "  </tbody>\n",
       "</table>\n",
       "<p>5 rows × 58 columns</p>\n",
       "</div>"
      ],
      "text/plain": [
       "             Id        AB          AF          AH         AM        AR  \\\n",
       "0  000ff2bfdfe9  0.209377  3109.03329   85.200147  22.394407  8.138688   \n",
       "1  007255e47698  0.145282   978.76416   85.200147  36.968889  8.138688   \n",
       "2  013f2bd269f5  0.470030  2635.10654   85.200147  32.360553  8.138688   \n",
       "3  043ac50845d5  0.252107  3819.65177  120.201618  77.112203  8.138688   \n",
       "4  044fb8a146ec  0.380297  3733.04844   85.200147  14.103738  8.138688   \n",
       "\n",
       "         AX        AY         AZ          BC  ...        FL        FR  \\\n",
       "0  0.699861  0.025578   9.812214    5.555634  ...  7.298162   1.73855   \n",
       "1  3.632190  0.025578  13.517790    1.229900  ...  0.173229   0.49706   \n",
       "2  6.732840  0.025578  12.824570    1.229900  ...  7.709560   0.97556   \n",
       "3  3.685344  0.025578  11.053708    1.229900  ...  6.122162   0.49706   \n",
       "4  3.942255  0.054810   3.396778  102.151980  ...  8.153058  48.50134   \n",
       "\n",
       "         FS         GB          GE            GF         GH         GI  \\\n",
       "0  0.094822  11.339138   72.611063   2003.810319  22.136229  69.834944   \n",
       "1  0.568932   9.292698   72.611063  27981.562750  29.135430  32.131996   \n",
       "2  1.198821  37.077772   88.609437  13676.957810  28.022851  35.192676   \n",
       "3  0.284466  18.529584   82.416803   2094.262452  39.948656  90.493248   \n",
       "4  0.121914  16.408728  146.109943   8524.370502  45.381316  36.262628   \n",
       "\n",
       "          GL  Class  \n",
       "0   0.120343      1  \n",
       "1  21.978000      0  \n",
       "2   0.196941      0  \n",
       "3   0.155829      0  \n",
       "4   0.096614      1  \n",
       "\n",
       "[5 rows x 58 columns]"
      ]
     },
     "execution_count": 4,
     "metadata": {},
     "output_type": "execute_result"
    }
   ],
   "source": [
    "dataset_df.head()"
   ]
  },
  {
   "cell_type": "markdown",
   "id": "5986efef",
   "metadata": {
    "papermill": {
     "duration": 0.010987,
     "end_time": "2023-06-05T10:06:59.877649",
     "exception": false,
     "start_time": "2023-06-05T10:06:59.866662",
     "status": "completed"
    },
    "tags": []
   },
   "source": [
    "`Class` is the label column indicating if a person has one or more of any of the three medical conditions (i.e,`Class 1`), or none of the three medical conditions (i.e,`Class 0`).\n",
    "Given the features of the dataset, the goal of our model is to predict the value of `Class` for any person."
   ]
  },
  {
   "cell_type": "markdown",
   "id": "c13caadf",
   "metadata": {
    "papermill": {
     "duration": 0.009682,
     "end_time": "2023-06-05T10:06:59.897333",
     "exception": false,
     "start_time": "2023-06-05T10:06:59.887651",
     "status": "completed"
    },
    "tags": []
   },
   "source": [
    "# Quick basic dataset exploration"
   ]
  },
  {
   "cell_type": "code",
   "execution_count": 5,
   "id": "91883205",
   "metadata": {
    "execution": {
     "iopub.execute_input": "2023-06-05T10:06:59.919816Z",
     "iopub.status.busy": "2023-06-05T10:06:59.919374Z",
     "iopub.status.idle": "2023-06-05T10:07:00.056685Z",
     "shell.execute_reply": "2023-06-05T10:07:00.054946Z"
    },
    "papermill": {
     "duration": 0.152203,
     "end_time": "2023-06-05T10:07:00.059730",
     "exception": false,
     "start_time": "2023-06-05T10:06:59.907527",
     "status": "completed"
    },
    "tags": []
   },
   "outputs": [
    {
     "data": {
      "text/html": [
       "<div>\n",
       "<style scoped>\n",
       "    .dataframe tbody tr th:only-of-type {\n",
       "        vertical-align: middle;\n",
       "    }\n",
       "\n",
       "    .dataframe tbody tr th {\n",
       "        vertical-align: top;\n",
       "    }\n",
       "\n",
       "    .dataframe thead th {\n",
       "        text-align: right;\n",
       "    }\n",
       "</style>\n",
       "<table border=\"1\" class=\"dataframe\">\n",
       "  <thead>\n",
       "    <tr style=\"text-align: right;\">\n",
       "      <th></th>\n",
       "      <th>AB</th>\n",
       "      <th>AF</th>\n",
       "      <th>AH</th>\n",
       "      <th>AM</th>\n",
       "      <th>AR</th>\n",
       "      <th>AX</th>\n",
       "      <th>AY</th>\n",
       "      <th>AZ</th>\n",
       "      <th>BC</th>\n",
       "      <th>BD</th>\n",
       "      <th>...</th>\n",
       "      <th>FL</th>\n",
       "      <th>FR</th>\n",
       "      <th>FS</th>\n",
       "      <th>GB</th>\n",
       "      <th>GE</th>\n",
       "      <th>GF</th>\n",
       "      <th>GH</th>\n",
       "      <th>GI</th>\n",
       "      <th>GL</th>\n",
       "      <th>Class</th>\n",
       "    </tr>\n",
       "  </thead>\n",
       "  <tbody>\n",
       "    <tr>\n",
       "      <th>count</th>\n",
       "      <td>617.000000</td>\n",
       "      <td>617.000000</td>\n",
       "      <td>617.000000</td>\n",
       "      <td>617.000000</td>\n",
       "      <td>617.000000</td>\n",
       "      <td>617.000000</td>\n",
       "      <td>617.000000</td>\n",
       "      <td>617.000000</td>\n",
       "      <td>617.000000</td>\n",
       "      <td>617.000000</td>\n",
       "      <td>...</td>\n",
       "      <td>616.000000</td>\n",
       "      <td>617.000000</td>\n",
       "      <td>615.000000</td>\n",
       "      <td>617.000000</td>\n",
       "      <td>617.000000</td>\n",
       "      <td>617.000000</td>\n",
       "      <td>617.000000</td>\n",
       "      <td>617.000000</td>\n",
       "      <td>616.000000</td>\n",
       "      <td>617.000000</td>\n",
       "    </tr>\n",
       "    <tr>\n",
       "      <th>mean</th>\n",
       "      <td>0.477149</td>\n",
       "      <td>3502.013221</td>\n",
       "      <td>118.624513</td>\n",
       "      <td>38.968552</td>\n",
       "      <td>10.128242</td>\n",
       "      <td>5.545576</td>\n",
       "      <td>0.060320</td>\n",
       "      <td>10.566447</td>\n",
       "      <td>8.053012</td>\n",
       "      <td>5350.388655</td>\n",
       "      <td>...</td>\n",
       "      <td>5.433199</td>\n",
       "      <td>3.533905</td>\n",
       "      <td>0.421501</td>\n",
       "      <td>20.724856</td>\n",
       "      <td>131.714987</td>\n",
       "      <td>14679.595398</td>\n",
       "      <td>31.489716</td>\n",
       "      <td>50.584437</td>\n",
       "      <td>8.530961</td>\n",
       "      <td>0.175041</td>\n",
       "    </tr>\n",
       "    <tr>\n",
       "      <th>std</th>\n",
       "      <td>0.468388</td>\n",
       "      <td>2300.322717</td>\n",
       "      <td>127.838950</td>\n",
       "      <td>69.728226</td>\n",
       "      <td>10.518877</td>\n",
       "      <td>2.551696</td>\n",
       "      <td>0.416817</td>\n",
       "      <td>4.350645</td>\n",
       "      <td>65.166943</td>\n",
       "      <td>3021.326641</td>\n",
       "      <td>...</td>\n",
       "      <td>11.496257</td>\n",
       "      <td>50.181948</td>\n",
       "      <td>1.305365</td>\n",
       "      <td>9.991907</td>\n",
       "      <td>144.181524</td>\n",
       "      <td>19352.959387</td>\n",
       "      <td>9.864239</td>\n",
       "      <td>36.266251</td>\n",
       "      <td>10.327010</td>\n",
       "      <td>0.380310</td>\n",
       "    </tr>\n",
       "    <tr>\n",
       "      <th>min</th>\n",
       "      <td>0.081187</td>\n",
       "      <td>192.593280</td>\n",
       "      <td>85.200147</td>\n",
       "      <td>3.177522</td>\n",
       "      <td>8.138688</td>\n",
       "      <td>0.699861</td>\n",
       "      <td>0.025578</td>\n",
       "      <td>3.396778</td>\n",
       "      <td>1.229900</td>\n",
       "      <td>1693.624320</td>\n",
       "      <td>...</td>\n",
       "      <td>0.173229</td>\n",
       "      <td>0.497060</td>\n",
       "      <td>0.067730</td>\n",
       "      <td>4.102182</td>\n",
       "      <td>72.611063</td>\n",
       "      <td>13.038894</td>\n",
       "      <td>9.432735</td>\n",
       "      <td>0.897628</td>\n",
       "      <td>0.001129</td>\n",
       "      <td>0.000000</td>\n",
       "    </tr>\n",
       "    <tr>\n",
       "      <th>25%</th>\n",
       "      <td>0.252107</td>\n",
       "      <td>2197.345480</td>\n",
       "      <td>85.200147</td>\n",
       "      <td>12.270314</td>\n",
       "      <td>8.138688</td>\n",
       "      <td>4.128294</td>\n",
       "      <td>0.025578</td>\n",
       "      <td>8.129580</td>\n",
       "      <td>1.229900</td>\n",
       "      <td>4155.702870</td>\n",
       "      <td>...</td>\n",
       "      <td>0.173229</td>\n",
       "      <td>0.497060</td>\n",
       "      <td>0.067730</td>\n",
       "      <td>14.036718</td>\n",
       "      <td>72.611063</td>\n",
       "      <td>2798.992584</td>\n",
       "      <td>25.034888</td>\n",
       "      <td>23.011684</td>\n",
       "      <td>0.124392</td>\n",
       "      <td>0.000000</td>\n",
       "    </tr>\n",
       "    <tr>\n",
       "      <th>50%</th>\n",
       "      <td>0.354659</td>\n",
       "      <td>3120.318960</td>\n",
       "      <td>85.200147</td>\n",
       "      <td>20.533110</td>\n",
       "      <td>8.138688</td>\n",
       "      <td>5.031912</td>\n",
       "      <td>0.025578</td>\n",
       "      <td>10.461320</td>\n",
       "      <td>1.229900</td>\n",
       "      <td>4997.960730</td>\n",
       "      <td>...</td>\n",
       "      <td>3.028141</td>\n",
       "      <td>1.131000</td>\n",
       "      <td>0.250601</td>\n",
       "      <td>18.771436</td>\n",
       "      <td>72.611063</td>\n",
       "      <td>7838.273610</td>\n",
       "      <td>30.608946</td>\n",
       "      <td>41.007968</td>\n",
       "      <td>0.337827</td>\n",
       "      <td>0.000000</td>\n",
       "    </tr>\n",
       "    <tr>\n",
       "      <th>75%</th>\n",
       "      <td>0.559763</td>\n",
       "      <td>4361.637390</td>\n",
       "      <td>113.739540</td>\n",
       "      <td>39.139886</td>\n",
       "      <td>8.138688</td>\n",
       "      <td>6.431634</td>\n",
       "      <td>0.036845</td>\n",
       "      <td>12.969516</td>\n",
       "      <td>5.081244</td>\n",
       "      <td>6035.885700</td>\n",
       "      <td>...</td>\n",
       "      <td>6.238814</td>\n",
       "      <td>1.512060</td>\n",
       "      <td>0.535067</td>\n",
       "      <td>25.608406</td>\n",
       "      <td>127.591671</td>\n",
       "      <td>19035.709240</td>\n",
       "      <td>36.863947</td>\n",
       "      <td>67.931664</td>\n",
       "      <td>21.978000</td>\n",
       "      <td>0.000000</td>\n",
       "    </tr>\n",
       "    <tr>\n",
       "      <th>max</th>\n",
       "      <td>6.161666</td>\n",
       "      <td>28688.187660</td>\n",
       "      <td>1910.123198</td>\n",
       "      <td>630.518230</td>\n",
       "      <td>178.943634</td>\n",
       "      <td>38.270880</td>\n",
       "      <td>10.315851</td>\n",
       "      <td>38.971568</td>\n",
       "      <td>1463.693448</td>\n",
       "      <td>53060.599240</td>\n",
       "      <td>...</td>\n",
       "      <td>137.932739</td>\n",
       "      <td>1244.227020</td>\n",
       "      <td>31.365763</td>\n",
       "      <td>135.781294</td>\n",
       "      <td>1497.351958</td>\n",
       "      <td>143790.071200</td>\n",
       "      <td>81.210825</td>\n",
       "      <td>191.194764</td>\n",
       "      <td>21.978000</td>\n",
       "      <td>1.000000</td>\n",
       "    </tr>\n",
       "  </tbody>\n",
       "</table>\n",
       "<p>8 rows × 56 columns</p>\n",
       "</div>"
      ],
      "text/plain": [
       "               AB            AF           AH          AM          AR  \\\n",
       "count  617.000000    617.000000   617.000000  617.000000  617.000000   \n",
       "mean     0.477149   3502.013221   118.624513   38.968552   10.128242   \n",
       "std      0.468388   2300.322717   127.838950   69.728226   10.518877   \n",
       "min      0.081187    192.593280    85.200147    3.177522    8.138688   \n",
       "25%      0.252107   2197.345480    85.200147   12.270314    8.138688   \n",
       "50%      0.354659   3120.318960    85.200147   20.533110    8.138688   \n",
       "75%      0.559763   4361.637390   113.739540   39.139886    8.138688   \n",
       "max      6.161666  28688.187660  1910.123198  630.518230  178.943634   \n",
       "\n",
       "               AX          AY          AZ           BC           BD   ...  \\\n",
       "count  617.000000  617.000000  617.000000   617.000000    617.000000  ...   \n",
       "mean     5.545576    0.060320   10.566447     8.053012   5350.388655  ...   \n",
       "std      2.551696    0.416817    4.350645    65.166943   3021.326641  ...   \n",
       "min      0.699861    0.025578    3.396778     1.229900   1693.624320  ...   \n",
       "25%      4.128294    0.025578    8.129580     1.229900   4155.702870  ...   \n",
       "50%      5.031912    0.025578   10.461320     1.229900   4997.960730  ...   \n",
       "75%      6.431634    0.036845   12.969516     5.081244   6035.885700  ...   \n",
       "max     38.270880   10.315851   38.971568  1463.693448  53060.599240  ...   \n",
       "\n",
       "               FL           FR          FS          GB           GE  \\\n",
       "count  616.000000   617.000000  615.000000  617.000000   617.000000   \n",
       "mean     5.433199     3.533905    0.421501   20.724856   131.714987   \n",
       "std     11.496257    50.181948    1.305365    9.991907   144.181524   \n",
       "min      0.173229     0.497060    0.067730    4.102182    72.611063   \n",
       "25%      0.173229     0.497060    0.067730   14.036718    72.611063   \n",
       "50%      3.028141     1.131000    0.250601   18.771436    72.611063   \n",
       "75%      6.238814     1.512060    0.535067   25.608406   127.591671   \n",
       "max    137.932739  1244.227020   31.365763  135.781294  1497.351958   \n",
       "\n",
       "                  GF          GH          GI          GL       Class  \n",
       "count     617.000000  617.000000  617.000000  616.000000  617.000000  \n",
       "mean    14679.595398   31.489716   50.584437    8.530961    0.175041  \n",
       "std     19352.959387    9.864239   36.266251   10.327010    0.380310  \n",
       "min        13.038894    9.432735    0.897628    0.001129    0.000000  \n",
       "25%      2798.992584   25.034888   23.011684    0.124392    0.000000  \n",
       "50%      7838.273610   30.608946   41.007968    0.337827    0.000000  \n",
       "75%     19035.709240   36.863947   67.931664   21.978000    0.000000  \n",
       "max    143790.071200   81.210825  191.194764   21.978000    1.000000  \n",
       "\n",
       "[8 rows x 56 columns]"
      ]
     },
     "execution_count": 5,
     "metadata": {},
     "output_type": "execute_result"
    }
   ],
   "source": [
    "dataset_df.describe()"
   ]
  },
  {
   "cell_type": "raw",
   "id": "c31743bc",
   "metadata": {
    "execution": {
     "iopub.execute_input": "2023-06-05T08:39:29.187811Z",
     "iopub.status.busy": "2023-06-05T08:39:29.187353Z",
     "iopub.status.idle": "2023-06-05T08:39:29.214705Z",
     "shell.execute_reply": "2023-06-05T08:39:29.213636Z",
     "shell.execute_reply.started": "2023-06-05T08:39:29.187771Z"
    },
    "papermill": {
     "duration": 0.010619,
     "end_time": "2023-06-05T10:07:00.080808",
     "exception": false,
     "start_time": "2023-06-05T10:07:00.070189",
     "status": "completed"
    },
    "tags": []
   },
   "source": [
    "dataset_df.info()"
   ]
  },
  {
   "cell_type": "markdown",
   "id": "1c466f4c",
   "metadata": {
    "papermill": {
     "duration": 0.009888,
     "end_time": "2023-06-05T10:07:00.101236",
     "exception": false,
     "start_time": "2023-06-05T10:07:00.091348",
     "status": "completed"
    },
    "tags": []
   },
   "source": [
    "## Pie chart for label column: Class"
   ]
  },
  {
   "cell_type": "code",
   "execution_count": 6,
   "id": "f2b00855",
   "metadata": {
    "execution": {
     "iopub.execute_input": "2023-06-05T10:07:00.123627Z",
     "iopub.status.busy": "2023-06-05T10:07:00.123240Z",
     "iopub.status.idle": "2023-06-05T10:07:00.340561Z",
     "shell.execute_reply": "2023-06-05T10:07:00.339412Z"
    },
    "papermill": {
     "duration": 0.23214,
     "end_time": "2023-06-05T10:07:00.343498",
     "exception": false,
     "start_time": "2023-06-05T10:07:00.111358",
     "status": "completed"
    },
    "tags": []
   },
   "outputs": [
    {
     "data": {
      "text/plain": [
       "<Axes: ylabel='Class'>"
      ]
     },
     "execution_count": 6,
     "metadata": {},
     "output_type": "execute_result"
    },
    {
     "data": {
      "image/png": "[encoded data removed]",
      "text/plain": [
       "<Figure size 640x480 with 1 Axes>"
      ]
     },
     "metadata": {},
     "output_type": "display_data"
    }
   ],
   "source": [
    "plot_df = dataset_df.Class.value_counts()\n",
    "plot_df.plot(kind=\"pie\")"
   ]
  },
  {
   "cell_type": "markdown",
   "id": "276382c6",
   "metadata": {
    "papermill": {
     "duration": 0.010228,
     "end_time": "2023-06-05T10:07:00.365038",
     "exception": false,
     "start_time": "2023-06-05T10:07:00.354810",
     "status": "completed"
    },
    "tags": []
   },
   "source": [
    "**Important**: From the pie chart we can see that the dataset is heavily imbalanced since the fraction of positive(`1`) samples is very small compared to the negative(`0`) samples."
   ]
  },
  {
   "cell_type": "markdown",
   "id": "83bf842b",
   "metadata": {
    "papermill": {
     "duration": 0.010245,
     "end_time": "2023-06-05T10:07:00.385940",
     "exception": false,
     "start_time": "2023-06-05T10:07:00.375695",
     "status": "completed"
    },
    "tags": []
   },
   "source": [
    "# Numerical data distribution\n",
    "\n",
    "First, we will list all the numerical columns names."
   ]
  },
  {
   "cell_type": "code",
   "execution_count": 7,
   "id": "64ffae51",
   "metadata": {
    "execution": {
     "iopub.execute_input": "2023-06-05T10:07:00.409698Z",
     "iopub.status.busy": "2023-06-05T10:07:00.408995Z",
     "iopub.status.idle": "2023-06-05T10:07:00.414144Z",
     "shell.execute_reply": "2023-06-05T10:07:00.413022Z"
    },
    "papermill": {
     "duration": 0.019983,
     "end_time": "2023-06-05T10:07:00.416743",
     "exception": false,
     "start_time": "2023-06-05T10:07:00.396760",
     "status": "completed"
    },
    "tags": []
   },
   "outputs": [],
   "source": [
    "# Store all the numerical column names into a list\n",
    "NUM_FEATURE_COLUMNS = [i for i in dataset_df.columns if i not in [\"Id\", \"EJ\", \"Class\"]]"
   ]
  },
  {
   "cell_type": "markdown",
   "id": "2c5e4061",
   "metadata": {
    "papermill": {
     "duration": 0.011397,
     "end_time": "2023-06-05T10:07:00.439327",
     "exception": false,
     "start_time": "2023-06-05T10:07:00.427930",
     "status": "completed"
    },
    "tags": []
   },
   "source": [
    "Let us now plot the first 6 numerical columns and their values using bar charts."
   ]
  },
  {
   "cell_type": "code",
   "execution_count": 8,
   "id": "30417fdd",
   "metadata": {
    "execution": {
     "iopub.execute_input": "2023-06-05T10:07:00.463187Z",
     "iopub.status.busy": "2023-06-05T10:07:00.462813Z",
     "iopub.status.idle": "2023-06-05T10:07:22.574045Z",
     "shell.execute_reply": "2023-06-05T10:07:22.572688Z"
    },
    "papermill": {
     "duration": 22.12613,
     "end_time": "2023-06-05T10:07:22.576940",
     "exception": false,
     "start_time": "2023-06-05T10:07:00.450810",
     "status": "completed"
    },
    "tags": []
   },
   "outputs": [
    {
     "data": {
      "image/png": "[encoded data removed]",
      "text/plain": [
       "<Figure size 1500x1500 with 6 Axes>"
      ]
     },
     "metadata": {},
     "output_type": "display_data"
    }
   ],
   "source": [
    "figure, axis = plt.subplots(3, 2, figsize=(15, 15))\n",
    "plt.subplots_adjust(hspace=0.25, wspace=0.3)\n",
    "\n",
    "for i, column_name in enumerate(NUM_FEATURE_COLUMNS[:6]):\n",
    "    row = i//2\n",
    "    col = i % 2\n",
    "    bp = sns.barplot(ax=axis[row, col], x=dataset_df['Id'], y=dataset_df[column_name])\n",
    "    bp.set(xticklabels=[])\n",
    "    #bp.set_xticklabels(bp.get_xticklabels(), rotation=90, size = 7)\n",
    "    axis[row, col].set_title(column_name)\n",
    "plt.show()"
   ]
  },
  {
   "cell_type": "markdown",
   "id": "fd416952",
   "metadata": {
    "papermill": {
     "duration": 0.01184,
     "end_time": "2023-06-05T10:07:22.600528",
     "exception": false,
     "start_time": "2023-06-05T10:07:22.588688",
     "status": "completed"
    },
    "tags": []
   },
   "source": [
    "We will also create a list of feature columns that will be used for training. We will drop `Id` from the list since it is not needed."
   ]
  },
  {
   "cell_type": "code",
   "execution_count": 9,
   "id": "a05e2b88",
   "metadata": {
    "execution": {
     "iopub.execute_input": "2023-06-05T10:07:22.627847Z",
     "iopub.status.busy": "2023-06-05T10:07:22.627159Z",
     "iopub.status.idle": "2023-06-05T10:07:22.633046Z",
     "shell.execute_reply": "2023-06-05T10:07:22.631812Z"
    },
    "papermill": {
     "duration": 0.021328,
     "end_time": "2023-06-05T10:07:22.635088",
     "exception": false,
     "start_time": "2023-06-05T10:07:22.613760",
     "status": "completed"
    },
    "tags": []
   },
   "outputs": [],
   "source": [
    "FEATURE_COLUMNS = [i for i in dataset_df.columns if i not in [\"Id\"]]"
   ]
  },
  {
   "cell_type": "markdown",
   "id": "be161811",
   "metadata": {
    "papermill": {
     "duration": 0.011717,
     "end_time": "2023-06-05T10:07:22.658578",
     "exception": false,
     "start_time": "2023-06-05T10:07:22.646861",
     "status": "completed"
    },
    "tags": []
   },
   "source": [
    "Now let us split the dataset into training and testing datasets:"
   ]
  },
  {
   "cell_type": "markdown",
   "id": "ebb8e4c1",
   "metadata": {
    "papermill": {
     "duration": 0.011275,
     "end_time": "2023-06-05T10:07:22.681496",
     "exception": false,
     "start_time": "2023-06-05T10:07:22.670221",
     "status": "completed"
    },
    "tags": []
   },
   "source": [
    "# KFold validation\n",
    "\n",
    "We will use KFold cross validation for training this model since the normal train/test split training won't be enough to acheive decent score.\n",
    "\n",
    "We will split the dataset into 5 consecutive folds. Each fold is then used once as a validation set while the 4 (5-1) remaining folds form the training set.\n",
    "\n",
    "Read more about KFold [here](https://scikit-learn.org/stable/modules/generated/sklearn.model_selection.KFold.html)."
   ]
  },
  {
   "cell_type": "code",
   "execution_count": 10,
   "id": "63150ebd",
   "metadata": {
    "execution": {
     "iopub.execute_input": "2023-06-05T10:07:22.708211Z",
     "iopub.status.busy": "2023-06-05T10:07:22.707785Z",
     "iopub.status.idle": "2023-06-05T10:07:22.713271Z",
     "shell.execute_reply": "2023-06-05T10:07:22.711938Z"
    },
    "papermill": {
     "duration": 0.022761,
     "end_time": "2023-06-05T10:07:22.716088",
     "exception": false,
     "start_time": "2023-06-05T10:07:22.693327",
     "status": "completed"
    },
    "tags": []
   },
   "outputs": [],
   "source": [
    "# Creates a GroupKFold with 5 splits\n",
    "kf = KFold(n_splits=5)"
   ]
  },
  {
   "cell_type": "markdown",
   "id": "fd071faa",
   "metadata": {
    "papermill": {
     "duration": 0.010501,
     "end_time": "2023-06-05T10:07:22.737964",
     "exception": false,
     "start_time": "2023-06-05T10:07:22.727463",
     "status": "completed"
    },
    "tags": []
   },
   "source": [
    "# Out of Fold (OOF)\n",
    "\n",
    "During KFold cross validation, the predictions made on the test set of each fold is known as Out of Fold(OOF) predictions. We will estimate the performance of the model using the predictions made across all the k (5 in this example) folds.\n",
    "\n",
    "For our training loop, we will create a pandas dataframe named `oof` to store the predictions of the validation set during each fold."
   ]
  },
  {
   "cell_type": "code",
   "execution_count": 11,
   "id": "3a073ce6",
   "metadata": {
    "execution": {
     "iopub.execute_input": "2023-06-05T10:07:22.764945Z",
     "iopub.status.busy": "2023-06-05T10:07:22.764538Z",
     "iopub.status.idle": "2023-06-05T10:07:22.771959Z",
     "shell.execute_reply": "2023-06-05T10:07:22.770112Z"
    },
    "papermill": {
     "duration": 0.023383,
     "end_time": "2023-06-05T10:07:22.774169",
     "exception": false,
     "start_time": "2023-06-05T10:07:22.750786",
     "status": "completed"
    },
    "tags": []
   },
   "outputs": [],
   "source": [
    "# Create list of ids for the creation of oof dataframe.\n",
    "ID_LIST = dataset_df.index\n",
    "\n",
    "# Create a dataframe of required size with zero values.\n",
    "oof = pd.DataFrame(data=np.zeros((len(ID_LIST),1)), index=ID_LIST)\n",
    "\n",
    "# Create an empty dictionary to store the models trained for each fold.\n",
    "models = {}\n",
    "\n",
    "# Create empty dict to save metircs for the models trained for each fold.\n",
    "accuracy = {}\n",
    "cross_entropy = {}\n",
    "\n",
    "# Save the name of the label column to a variable.\n",
    "label = \"Class\""
   ]
  },
  {
   "cell_type": "markdown",
   "id": "ed9ca72e",
   "metadata": {
    "papermill": {
     "duration": 0.010753,
     "end_time": "2023-06-05T10:07:22.796746",
     "exception": false,
     "start_time": "2023-06-05T10:07:22.785993",
     "status": "completed"
    },
    "tags": []
   },
   "source": [
    "# Select a Model\n",
    "\n",
    "There are several tree-based models for you to choose from.\n",
    "\n",
    "* RandomForestModel\n",
    "* GradientBoostedTreesModel\n",
    "* CartModel\n",
    "* DistributedGradientBoostedTreesModel\n",
    "\n",
    "To start, we'll work with a Random Forest. This is the most well-known of the Decision Forest training algorithms.\n",
    "\n",
    "A Random Forest is a collection of decision trees, each trained independently on a random subset of the training dataset (sampled with replacement). The algorithm is unique in that it is robust to overfitting, and easy to use.\n",
    "\n",
    "We can list the all the available models in TensorFlow Decision Forests using the following code:"
   ]
  },
  {
   "cell_type": "code",
   "execution_count": 12,
   "id": "38294699",
   "metadata": {
    "execution": {
     "iopub.execute_input": "2023-06-05T10:07:22.820826Z",
     "iopub.status.busy": "2023-06-05T10:07:22.820223Z",
     "iopub.status.idle": "2023-06-05T10:07:22.826783Z",
     "shell.execute_reply": "2023-06-05T10:07:22.825878Z"
    },
    "papermill": {
     "duration": 0.020974,
     "end_time": "2023-06-05T10:07:22.828747",
     "exception": false,
     "start_time": "2023-06-05T10:07:22.807773",
     "status": "completed"
    },
    "tags": []
   },
   "outputs": [
    {
     "data": {
      "text/plain": [
       "[tensorflow_decision_forests.keras.RandomForestModel,\n",
       " tensorflow_decision_forests.keras.GradientBoostedTreesModel,\n",
       " tensorflow_decision_forests.keras.CartModel,\n",
       " tensorflow_decision_forests.keras.DistributedGradientBoostedTreesModel]"
      ]
     },
     "execution_count": 12,
     "metadata": {},
     "output_type": "execute_result"
    }
   ],
   "source": [
    "tfdf.keras.get_all_models()"
   ]
  },
  {
   "cell_type": "markdown",
   "id": "a71356c0",
   "metadata": {
    "papermill": {
     "duration": 0.011792,
     "end_time": "2023-06-05T10:07:22.853814",
     "exception": false,
     "start_time": "2023-06-05T10:07:22.842022",
     "status": "completed"
    },
    "tags": []
   },
   "source": [
    "# How can I configure them?\n",
    "\n",
    "TensorFlow Decision Forests provides good defaults for you (e.g. the top ranking hyperparameters on our benchmarks, slightly modified to run in reasonable time). If you would like to configure the learning algorithm, you will find many options you can explore to get a better score.\n",
    "\n",
    "You can select a template and/or set parameters as follows:\n",
    "\n",
    "```rf = tfdf.keras.RandomForestModel(hyperparameter_template=\"benchmark_rank1\")```\n",
    "\n",
    "Read more [here](https://www.tensorflow.org/decision_forests/api_docs/python/tfdf/keras/RandomForestModel)."
   ]
  },
  {
   "cell_type": "markdown",
   "id": "d6d1a1cf",
   "metadata": {
    "papermill": {
     "duration": 0.011569,
     "end_time": "2023-06-05T10:07:22.877579",
     "exception": false,
     "start_time": "2023-06-05T10:07:22.866010",
     "status": "completed"
    },
    "tags": []
   },
   "source": [
    "# Hyperparameter tuning to avoid overfitting\n",
    "\n",
    "Because of the smaller size of the dataset, it is likely that the model will overfit during training.\n",
    "Numerous parameters, primarily `max_depth` and `num_trees` can be changed to fine-tune the model and prevent overfitting.\n",
    "\n",
    "The attribute`max_depth` indicates the maximum depth of the tree. To avoid overfitting, we can try to reduce the depth of the tree from it's default value, which is `16`. Another way to tackle overfitting is to increase the number of individual decision trees. To do this, we have to increase the value of the parameter `num_trees` from its default value(`300`).\n",
    "\n",
    "You can set these parameters as follows:\n",
    "\n",
    "```rf = tfdf.keras.RandomForestModel(max_depth=5, num_trees=500)```"
   ]
  },
  {
   "cell_type": "markdown",
   "id": "dd530b96",
   "metadata": {
    "papermill": {
     "duration": 0.011666,
     "end_time": "2023-06-05T10:07:22.901188",
     "exception": false,
     "start_time": "2023-06-05T10:07:22.889522",
     "status": "completed"
    },
    "tags": []
   },
   "source": [
    "# Strategies to handle the dataset imbalance\n",
    "\n",
    "Let's examine the fraction of positive and negative samples in this dataset's  by examining the`Class` column."
   ]
  },
  {
   "cell_type": "code",
   "execution_count": 13,
   "id": "6f83ab19",
   "metadata": {
    "execution": {
     "iopub.execute_input": "2023-06-05T10:07:22.926377Z",
     "iopub.status.busy": "2023-06-05T10:07:22.926017Z",
     "iopub.status.idle": "2023-06-05T10:07:22.932747Z",
     "shell.execute_reply": "2023-06-05T10:07:22.930967Z"
    },
    "papermill": {
     "duration": 0.022113,
     "end_time": "2023-06-05T10:07:22.935221",
     "exception": false,
     "start_time": "2023-06-05T10:07:22.913108",
     "status": "completed"
    },
    "tags": []
   },
   "outputs": [
    {
     "name": "stdout",
     "output_type": "stream",
     "text": [
      "Examples:\n",
      "    Total: 617\n",
      "    Positive: 108 (17.50% of total)\n",
      "\n"
     ]
    }
   ],
   "source": [
    "# Calculate the number of negative and positive values in `Class` column\n",
    "neg, pos = np.bincount(dataset_df['Class'])\n",
    "# Calculate total samples\n",
    "total = neg + pos\n",
    "print('Examples:\\n    Total: {}\\n    Positive: {} ({:.2f}% of total)\\n'.format(\n",
    "    total, pos, 100 * pos / total))"
   ]
  },
  {
   "cell_type": "markdown",
   "id": "fd9c128d",
   "metadata": {
    "papermill": {
     "duration": 0.010919,
     "end_time": "2023-06-05T10:07:22.958506",
     "exception": false,
     "start_time": "2023-06-05T10:07:22.947587",
     "status": "completed"
    },
    "tags": []
   },
   "source": [
    "As we can see, positive samples only account for 17.50% of the data. This means that our datastet is heavily imbalanced.\n",
    "\n",
    "In classification problems with imbalanced datasets, a model tends to be more biased towards the majority class leading to the model performing poorly on the samples belonging to the minority class."
   ]
  },
  {
   "cell_type": "markdown",
   "id": "a8761470",
   "metadata": {
    "papermill": {
     "duration": 0.011019,
     "end_time": "2023-06-05T10:07:22.980750",
     "exception": false,
     "start_time": "2023-06-05T10:07:22.969731",
     "status": "completed"
    },
    "tags": []
   },
   "source": [
    "There are many techniques for dealing with imbalanced data. The most suitable techniques for this dataset are:\n",
    "\n",
    "* Undersampling\n",
    "* Class weighting\n",
    "\n",
    "In this notebook we will use **Class weighting** to deal with imbalanced data. But first, we will quickly outline how undersampling can be performed."
   ]
  },
  {
   "cell_type": "markdown",
   "id": "1c5bec34",
   "metadata": {
    "papermill": {
     "duration": 0.011192,
     "end_time": "2023-06-05T10:07:23.003058",
     "exception": false,
     "start_time": "2023-06-05T10:07:22.991866",
     "status": "completed"
    },
    "tags": []
   },
   "source": [
    "# Undersampling\n",
    "\n",
    "One approach to deal with an imbalanced dataset would be to under-sample the majority class(es) by choosing a smaller subset of the majority class samples(negative or `0` class in this case) from the dataset rather than picking the entire data.\n",
    "\n",
    "Note: You have to loop through the dataset and try different random subsets for a better score.\n",
    "\n",
    "The code snippet below illustrates how to perform undersampling.\n",
    "\n",
    "```\n",
    "# This function generates undersampled dataset.\n",
    "def random_under_sampler(df):\n",
    "    # Calculate the number of samples for each label. \n",
    "    neg, pos = np.bincount(df['Class'])\n",
    "\n",
    "    # Choose the samples with class label `1`.\n",
    "    one_df = df.loc[df['Class'] == 1] \n",
    "    # Choose the samples with class label `0`.\n",
    "    zero_df = df.loc[df['Class'] == 0]\n",
    "    # Select `pos` number of negative samples.\n",
    "    # This makes sure that we have equal number of samples for each label.\n",
    "    zero_df = zero_df.sample(n=pos)\n",
    "\n",
    "    # Join both label dataframes.\n",
    "    undersampled_df = pd.concat([zero_df, one_df])\n",
    "\n",
    "    # Shuffle the data and return\n",
    "    return undersampled_df.sample(frac = 1)\n",
    "```"
   ]
  },
  {
   "cell_type": "markdown",
   "id": "3cedf05d",
   "metadata": {
    "papermill": {
     "duration": 0.011687,
     "end_time": "2023-06-05T10:07:23.028226",
     "exception": false,
     "start_time": "2023-06-05T10:07:23.016539",
     "status": "completed"
    },
    "tags": []
   },
   "source": [
    "# Class weighting\n",
    "\n",
    "Since the postive(`1`) `Class` labels are only a small fraction of the dataset, we would want the classifier to heavily weight those examples. You can do this by passing **Keras weights** for each class through a parameter. This will cause the model to \"pay more attention\" to examples from an under-represented class. Read more about class weights [here](https://www.tensorflow.org/tutorials/structured_data/imbalanced_data#class_weights)."
   ]
  },
  {
   "cell_type": "code",
   "execution_count": 14,
   "id": "607e6066",
   "metadata": {
    "execution": {
     "iopub.execute_input": "2023-06-05T10:07:23.055826Z",
     "iopub.status.busy": "2023-06-05T10:07:23.055438Z",
     "iopub.status.idle": "2023-06-05T10:07:23.064334Z",
     "shell.execute_reply": "2023-06-05T10:07:23.062776Z"
    },
    "papermill": {
     "duration": 0.027782,
     "end_time": "2023-06-05T10:07:23.068319",
     "exception": false,
     "start_time": "2023-06-05T10:07:23.040537",
     "status": "completed"
    },
    "tags": []
   },
   "outputs": [
    {
     "name": "stdout",
     "output_type": "stream",
     "text": [
      "Weight for class 0: 0.61\n",
      "Weight for class 1: 2.86\n"
     ]
    }
   ],
   "source": [
    "# Calculate the number of samples for each label.\n",
    "neg, pos = np.bincount(dataset_df['Class'])\n",
    "\n",
    "# Calculate total samples.\n",
    "total = neg + pos\n",
    "\n",
    "# Calculate the weight for each label.\n",
    "weight_for_0 = (1 / neg) * (total / 2.0)\n",
    "weight_for_1 = (1 / pos) * (total / 2.0)\n",
    "\n",
    "class_weight = {0: weight_for_0, 1: weight_for_1}\n",
    "\n",
    "print('Weight for class 0: {:.2f}'.format(weight_for_0))\n",
    "print('Weight for class 1: {:.2f}'.format(weight_for_1))"
   ]
  },
  {
   "cell_type": "markdown",
   "id": "00834fc6",
   "metadata": {
    "papermill": {
     "duration": 0.012678,
     "end_time": "2023-06-05T10:07:23.095382",
     "exception": false,
     "start_time": "2023-06-05T10:07:23.082704",
     "status": "completed"
    },
    "tags": []
   },
   "source": [
    "To train and evaluate the models using class weights, use the dict in model.fit() as an argument as shown below.\n",
    "\n",
    "```model.fit(x=train_ds, class_weight=class_weight)```"
   ]
  },
  {
   "cell_type": "markdown",
   "id": "c78bc14e",
   "metadata": {
    "papermill": {
     "duration": 0.012648,
     "end_time": "2023-06-05T10:07:23.122094",
     "exception": false,
     "start_time": "2023-06-05T10:07:23.109446",
     "status": "completed"
    },
    "tags": []
   },
   "source": [
    "# Train Random Forest Model\n",
    "\n",
    "Today, we will use the defaults to create the Random Forest Model. By default the model is set to train for a classification task.\n",
    "We will train a model for each fold and after training we will store the model and metrics. Here, we have chosen `accuracy` and `binary_crossentropy` as the metrics."
   ]
  },
  {
   "cell_type": "code",
   "execution_count": 15,
   "id": "944c2df3",
   "metadata": {
    "execution": {
     "iopub.execute_input": "2023-06-05T10:07:23.153345Z",
     "iopub.status.busy": "2023-06-05T10:07:23.152482Z",
     "iopub.status.idle": "2023-06-05T10:07:41.455304Z",
     "shell.execute_reply": "2023-06-05T10:07:41.454386Z"
    },
    "papermill": {
     "duration": 18.323491,
     "end_time": "2023-06-05T10:07:41.457980",
     "exception": false,
     "start_time": "2023-06-05T10:07:23.134489",
     "status": "completed"
    },
    "tags": []
   },
   "outputs": [
    {
     "name": "stdout",
     "output_type": "stream",
     "text": [
      "##### Fold 1\n",
      "Warning: Some of the feature names have been changed automatically to be compatible with SavedModels because fix_feature_names=True.\n",
      "Warning: Some of the feature names have been changed automatically to be compatible with SavedModels because fix_feature_names=True.\n",
      "Use /tmp/tmpu4_z_a5d as temporary training directory\n",
      "Reading training dataset...\n",
      "Training dataset read in 0:00:06.064340. Found 493 examples.\n",
      "Training model...\n",
      "Model trained in 0:00:00.238052\n",
      "Compiling model...\n"
     ]
    },
    {
     "name": "stderr",
     "output_type": "stream",
     "text": [
      "[INFO 23-06-05 10:07:29.8083 UTC kernel.cc:1242] Loading model from path /tmp/tmpu4_z_a5d/model/ with prefix 568acc713d3d423b\n",
      "[INFO 23-06-05 10:07:29.8379 UTC decision_forest.cc:660] Model loaded with 300 root(s), 14268 node(s), and 56 input feature(s).\n",
      "[INFO 23-06-05 10:07:29.8381 UTC abstract_model.cc:1311] Engine \"RandomForestOptPred\" built\n",
      "[INFO 23-06-05 10:07:29.8382 UTC kernel.cc:1074] Use fast generic engine\n"
     ]
    },
    {
     "name": "stdout",
     "output_type": "stream",
     "text": [
      "WARNING: AutoGraph could not transform <function simple_ml_inference_op_with_handle at 0x7cbe52c057e0> and will run it as-is.\n",
      "Please report this to the TensorFlow team. When filing the bug, set the verbosity to 10 (on Linux, `export AUTOGRAPH_VERBOSITY=10`) and attach the full output.\n",
      "Cause: could not get source code\n",
      "To silence this warning, decorate the function with @tf.autograph.experimental.do_not_convert\n",
      "Model compiled.\n",
      "1/1 [==============================] - 0s 112ms/step\n",
      "1/1 [==============================] - 1s 598ms/step - loss: 0.0000e+00 - accuracy: 0.9516 - binary_crossentropy: 0.2182\n",
      "##### Fold 2\n",
      "Warning: Some of the feature names have been changed automatically to be compatible with SavedModels because fix_feature_names=True.\n",
      "Warning: Some of the feature names have been changed automatically to be compatible with SavedModels because fix_feature_names=True.\n",
      "Use /tmp/tmpnz49xg6k as temporary training directory\n",
      "Reading training dataset...\n",
      "Training dataset read in 0:00:00.806899. Found 493 examples.\n",
      "Training model...\n",
      "Model trained in 0:00:00.170713\n",
      "Compiling model...\n"
     ]
    },
    {
     "name": "stderr",
     "output_type": "stream",
     "text": [
      "[INFO 23-06-05 10:07:33.9135 UTC kernel.cc:1242] Loading model from path /tmp/tmpnz49xg6k/model/ with prefix ece69e0e08494017\n",
      "[INFO 23-06-05 10:07:33.9353 UTC decision_forest.cc:660] Model loaded with 300 root(s), 13582 node(s), and 56 input feature(s).\n",
      "[INFO 23-06-05 10:07:33.9354 UTC kernel.cc:1074] Use fast generic engine\n"
     ]
    },
    {
     "name": "stdout",
     "output_type": "stream",
     "text": [
      "Model compiled.\n",
      "1/1 [==============================] - 0s 105ms/step\n",
      "1/1 [==============================] - 0s 319ms/step - loss: 0.0000e+00 - accuracy: 0.8790 - binary_crossentropy: 0.2608\n",
      "##### Fold 3\n",
      "Warning: Some of the feature names have been changed automatically to be compatible with SavedModels because fix_feature_names=True.\n",
      "Warning: Some of the feature names have been changed automatically to be compatible with SavedModels because fix_feature_names=True.\n",
      "Use /tmp/tmpn3skf1c6 as temporary training directory\n",
      "Reading training dataset...\n",
      "Training dataset read in 0:00:00.823875. Found 494 examples.\n",
      "Training model...\n",
      "Model trained in 0:00:00.169965\n",
      "Compiling model...\n"
     ]
    },
    {
     "name": "stderr",
     "output_type": "stream",
     "text": [
      "[INFO 23-06-05 10:07:35.9238 UTC kernel.cc:1242] Loading model from path /tmp/tmpn3skf1c6/model/ with prefix 2e59d879fa044180\n",
      "[INFO 23-06-05 10:07:35.9454 UTC decision_forest.cc:660] Model loaded with 300 root(s), 13376 node(s), and 56 input feature(s).\n",
      "[INFO 23-06-05 10:07:35.9454 UTC kernel.cc:1074] Use fast generic engine\n"
     ]
    },
    {
     "name": "stdout",
     "output_type": "stream",
     "text": [
      "Model compiled.\n",
      "1/1 [==============================] - 0s 111ms/step\n",
      "1/1 [==============================] - 0s 296ms/step - loss: 0.0000e+00 - accuracy: 0.9024 - binary_crossentropy: 0.2741\n",
      "##### Fold 4\n",
      "Warning: Some of the feature names have been changed automatically to be compatible with SavedModels because fix_feature_names=True.\n",
      "Warning: Some of the feature names have been changed automatically to be compatible with SavedModels because fix_feature_names=True.\n",
      "Use /tmp/tmp510osebx as temporary training directory\n",
      "Reading training dataset...\n",
      "Training dataset read in 0:00:01.510709. Found 494 examples.\n",
      "Training model...\n",
      "Model trained in 0:00:00.162378\n",
      "Compiling model...\n"
     ]
    },
    {
     "name": "stderr",
     "output_type": "stream",
     "text": [
      "[INFO 23-06-05 10:07:38.5603 UTC kernel.cc:1242] Loading model from path /tmp/tmp510osebx/model/ with prefix 5c3bd648bb5d4e61\n",
      "[INFO 23-06-05 10:07:38.5816 UTC decision_forest.cc:660] Model loaded with 300 root(s), 13434 node(s), and 56 input feature(s).\n",
      "[INFO 23-06-05 10:07:38.5817 UTC kernel.cc:1074] Use fast generic engine\n"
     ]
    },
    {
     "name": "stdout",
     "output_type": "stream",
     "text": [
      "Model compiled.\n",
      "1/1 [==============================] - 0s 108ms/step\n",
      "1/1 [==============================] - 0s 290ms/step - loss: 0.0000e+00 - accuracy: 0.9024 - binary_crossentropy: 0.2717\n",
      "##### Fold 5\n",
      "Warning: Some of the feature names have been changed automatically to be compatible with SavedModels because fix_feature_names=True.\n",
      "Warning: Some of the feature names have been changed automatically to be compatible with SavedModels because fix_feature_names=True.\n",
      "Use /tmp/tmpt7rs8x35 as temporary training directory\n",
      "Reading training dataset...\n",
      "Training dataset read in 0:00:00.815134. Found 494 examples.\n",
      "Training model...\n",
      "Model trained in 0:00:00.178771\n",
      "Compiling model...\n"
     ]
    },
    {
     "name": "stderr",
     "output_type": "stream",
     "text": [
      "[INFO 23-06-05 10:07:40.5536 UTC kernel.cc:1242] Loading model from path /tmp/tmpt7rs8x35/model/ with prefix dbf31d2cd7594aed\n",
      "[INFO 23-06-05 10:07:40.5761 UTC decision_forest.cc:660] Model loaded with 300 root(s), 13980 node(s), and 56 input feature(s).\n",
      "[INFO 23-06-05 10:07:40.5761 UTC abstract_model.cc:1311] Engine \"RandomForestOptPred\" built\n",
      "[INFO 23-06-05 10:07:40.5761 UTC kernel.cc:1074] Use fast generic engine\n"
     ]
    },
    {
     "name": "stdout",
     "output_type": "stream",
     "text": [
      "Model compiled.\n",
      "1/1 [==============================] - 0s 107ms/step\n",
      "1/1 [==============================] - 0s 292ms/step - loss: 0.0000e+00 - accuracy: 0.9512 - binary_crossentropy: 0.2172\n"
     ]
    }
   ],
   "source": [
    "# Loop through each fold\n",
    "for i, (train_index, valid_index) in enumerate(kf.split(X=dataset_df)):\n",
    "        print('##### Fold',i+1)\n",
    "\n",
    "        # Fetch values corresponding to the index \n",
    "        train_df = dataset_df.iloc[train_index]\n",
    "        valid_df = dataset_df.iloc[valid_index]\n",
    "        valid_ids = valid_df.index.values\n",
    "        \n",
    "        # Select only feature columns for training.\n",
    "        train_df = train_df[FEATURE_COLUMNS]\n",
    "        valid_df = valid_df[FEATURE_COLUMNS]\n",
    "        \n",
    "        # There's one more step required before we can train the model. \n",
    "        # We need to convert the datatset from Pandas format (pd.DataFrame)\n",
    "        # into TensorFlow Datasets format (tf.data.Dataset).\n",
    "        # TensorFlow Datasets is a high performance data loading library \n",
    "        # which is helpful when training neural networks with accelerators like GPUs and TPUs.\n",
    "        # Note: Some column names contains white spaces at the end of their name, \n",
    "        # which is non-comaptible with SavedModels save format. \n",
    "        # By default, `pd_dataframe_to_tf_dataset` function will convert \n",
    "        # this column names into a compatible format. \n",
    "        # So you can safely ignore the warnings related to this.\n",
    "        train_ds = tfdf.keras.pd_dataframe_to_tf_dataset(train_df, label=label)\n",
    "        valid_ds = tfdf.keras.pd_dataframe_to_tf_dataset(valid_df, label=label)\n",
    "\n",
    "        # Define the model and metrics\n",
    "        rf = tfdf.keras.RandomForestModel()\n",
    "        rf.compile(metrics=[\"accuracy\", \"binary_crossentropy\"]) \n",
    "        \n",
    "        # Train the model\n",
    "        # We will train the model using a one-liner.\n",
    "        # Note: you may see a warning about Autograph. \n",
    "        # You can safely ignore this, it will be fixed in the next release.\n",
    "        # Previously calculated class weights is used to handle imbalance.\n",
    "        rf.fit(x=train_ds, class_weight=class_weight)\n",
    "        \n",
    "        # Store the model\n",
    "        models[f\"fold_{i+1}\"] = rf\n",
    "        \n",
    "        \n",
    "        # Predict OOF value for validation data\n",
    "        predict = rf.predict(x=valid_ds)\n",
    "        \n",
    "        # Store the predictions in oof dataframe\n",
    "        oof.loc[valid_ids, 0] = predict.flatten() \n",
    "        \n",
    "        # Evaluate and store the metrics in respective dicts\n",
    "        evaluation = rf.evaluate(x=valid_ds,return_dict=True)\n",
    "        accuracy[f\"fold_{i+1}\"] = evaluation[\"accuracy\"]\n",
    "        cross_entropy[f\"fold_{i+1}\"]= evaluation[\"binary_crossentropy\"]"
   ]
  },
  {
   "cell_type": "markdown",
   "id": "5ba61b46",
   "metadata": {
    "papermill": {
     "duration": 0.016015,
     "end_time": "2023-06-05T10:07:41.490218",
     "exception": false,
     "start_time": "2023-06-05T10:07:41.474203",
     "status": "completed"
    },
    "tags": []
   },
   "source": [
    "# Visualize the model\n",
    "One benefit of tree-based models is that we can easily visualize them. The default number of trees used in the Random Forests is 300. We can select any tree for display.\n",
    "\n",
    "Let us pick one model from the `models` dict and select a tree for display."
   ]
  },
  {
   "cell_type": "code",
   "execution_count": 16,
   "id": "9ef25992",
   "metadata": {
    "execution": {
     "iopub.execute_input": "2023-06-05T10:07:41.524686Z",
     "iopub.status.busy": "2023-06-05T10:07:41.523674Z",
     "iopub.status.idle": "2023-06-05T10:07:41.537371Z",
     "shell.execute_reply": "2023-06-05T10:07:41.536431Z"
    },
    "papermill": {
     "duration": 0.033159,
     "end_time": "2023-06-05T10:07:41.539260",
     "exception": false,
     "start_time": "2023-06-05T10:07:41.506101",
     "status": "completed"
    },
    "tags": []
   },
   "outputs": [
    {
     "data": {
      "text/html": [
       "\n",
       "<script src=\"https://d3js.org/d3.v6.min.js\"></script>\n",
       "<div id=\"tree_plot_0512498ff01a45d2834a22dfc3ef4840\"></div>\n",
       "<script>\n",
       "/*\n",
       " * Copyright 2021 Google LLC.\n",
       " * Licensed under the Apache License, Version 2.0 (the \"License\");\n",
       " * you may not use this file except in compliance with the License.\n",
       " * You may obtain a copy of the License at\n",
       " *\n",
       " *     https://www.apache.org/licenses/LICENSE-2.0\n",
       " *\n",
       " * Unless required by applicable law or agreed to in writing, software\n",
       " * distributed under the License is distributed on an \"AS IS\" BASIS,\n",
       " * WITHOUT WARRANTIES OR CONDITIONS OF ANY KIND, either express or implied.\n",
       " * See the License for the specific language governing permissions and\n",
       " * limitations under the License.\n",
       " */\n",
       "\n",
       "/**\n",
       " *  Plotting of decision trees generated by TF-DF.\n",
       " *\n",
       " *  A tree is a recursive structure of node objects.\n",
       " *  A node contains one or more of the following components:\n",
       " *\n",
       " *    - A value: Representing the output of the node. If the node is not a leaf,\n",
       " *      the value is only present for analysis i.e. it is not used for\n",
       " *      predictions.\n",
       " *\n",
       " *    - A condition : For non-leaf nodes, the condition (also known as split)\n",
       " *      defines a binary test to branch to the positive or negative child.\n",
       " *\n",
       " *    - An explanation: Generally a plot showing the relation between the label\n",
       " *      and the condition to give insights about the effect of the condition.\n",
       " *\n",
       " *    - Two children : For non-leaf nodes, the children nodes. The first\n",
       " *      children (i.e. \"node.children[0]\") is the negative children (drawn in\n",
       " *      red). The second children is the positive one (drawn in green).\n",
       " *\n",
       " */\n",
       "\n",
       "/**\n",
       " * Plots a single decision tree into a DOM element.\n",
       " * @param {!options} options Dictionary of configurations.\n",
       " * @param {!tree} raw_tree Recursive tree structure.\n",
       " * @param {string} canvas_id Id of the output dom element.\n",
       " */\n",
       "function display_tree(options, raw_tree, canvas_id) {\n",
       "  console.log(options);\n",
       "\n",
       "  // Determine the node placement.\n",
       "  const tree_struct = d3.tree().nodeSize(\n",
       "      [options.node_y_offset, options.node_x_offset])(d3.hierarchy(raw_tree));\n",
       "\n",
       "  // Boundaries of the node placement.\n",
       "  let x_min = Infinity;\n",
       "  let x_max = -x_min;\n",
       "  let y_min = Infinity;\n",
       "  let y_max = -x_min;\n",
       "\n",
       "  tree_struct.each(d => {\n",
       "    if (d.x > x_max) x_max = d.x;\n",
       "    if (d.x < x_min) x_min = d.x;\n",
       "    if (d.y > y_max) y_max = d.y;\n",
       "    if (d.y < y_min) y_min = d.y;\n",
       "  });\n",
       "\n",
       "  // Size of the plot.\n",
       "  const width = y_max - y_min + options.node_x_size + options.margin * 2;\n",
       "  const height = x_max - x_min + options.node_y_size + options.margin * 2 +\n",
       "      options.node_y_offset - options.node_y_size;\n",
       "\n",
       "  const plot = d3.select(canvas_id);\n",
       "\n",
       "  // Tool tip\n",
       "  options.tooltip = plot.append('div')\n",
       "                        .attr('width', 100)\n",
       "                        .attr('height', 100)\n",
       "                        .style('padding', '4px')\n",
       "                        .style('background', '#fff')\n",
       "                        .style('box-shadow', '4px 4px 0px rgba(0,0,0,0.1)')\n",
       "                        .style('border', '1px solid black')\n",
       "                        .style('font-family', 'sans-serif')\n",
       "                        .style('font-size', options.font_size)\n",
       "                        .style('position', 'absolute')\n",
       "                        .style('z-index', '10')\n",
       "                        .attr('pointer-events', 'none')\n",
       "                        .style('display', 'none');\n",
       "\n",
       "  // Create canvas\n",
       "  const svg = plot.append('svg').attr('width', width).attr('height', height);\n",
       "  const graph =\n",
       "      svg.style('overflow', 'visible')\n",
       "          .append('g')\n",
       "          .attr('font-family', 'sans-serif')\n",
       "          .attr('font-size', options.font_size)\n",
       "          .attr(\n",
       "              'transform',\n",
       "              () => `translate(${options.margin},${\n",
       "                  - x_min + options.node_y_offset / 2 + options.margin})`);\n",
       "\n",
       "  // Plot bounding box.\n",
       "  if (options.show_plot_bounding_box) {\n",
       "    svg.append('rect')\n",
       "        .attr('width', width)\n",
       "        .attr('height', height)\n",
       "        .attr('fill', 'none')\n",
       "        .attr('stroke-width', 1.0)\n",
       "        .attr('stroke', 'black');\n",
       "  }\n",
       "\n",
       "  // Draw the edges.\n",
       "  display_edges(options, graph, tree_struct);\n",
       "\n",
       "  // Draw the nodes.\n",
       "  display_nodes(options, graph, tree_struct);\n",
       "}\n",
       "\n",
       "/**\n",
       " * Draw the nodes of the tree.\n",
       " * @param {!options} options Dictionary of configurations.\n",
       " * @param {!graph} graph D3 search handle containing the graph.\n",
       " * @param {!tree_struct} tree_struct Structure of the tree (node placement,\n",
       " *     data, etc.).\n",
       " */\n",
       "function display_nodes(options, graph, tree_struct) {\n",
       "  const nodes = graph.append('g')\n",
       "                    .selectAll('g')\n",
       "                    .data(tree_struct.descendants())\n",
       "                    .join('g')\n",
       "                    .attr('transform', d => `translate(${d.y},${d.x})`);\n",
       "\n",
       "  nodes.append('rect')\n",
       "      .attr('x', 0.5)\n",
       "      .attr('y', 0.5)\n",
       "      .attr('width', options.node_x_size)\n",
       "      .attr('height', options.node_y_size)\n",
       "      .attr('stroke', 'lightgrey')\n",
       "      .attr('stroke-width', 1)\n",
       "      .attr('fill', 'white')\n",
       "      .attr('y', -options.node_y_size / 2);\n",
       "\n",
       "  // Brackets on the right of condition nodes without children.\n",
       "  non_leaf_node_without_children =\n",
       "      nodes.filter(node => node.data.condition != null && node.children == null)\n",
       "          .append('g')\n",
       "          .attr('transform', `translate(${options.node_x_size},0)`);\n",
       "\n",
       "  non_leaf_node_without_children.append('path')\n",
       "      .attr('d', 'M0,0 C 10,0 0,10 10,10')\n",
       "      .attr('fill', 'none')\n",
       "      .attr('stroke-width', 1.0)\n",
       "      .attr('stroke', '#F00');\n",
       "\n",
       "  non_leaf_node_without_children.append('path')\n",
       "      .attr('d', 'M0,0 C 10,0 0,-10 10,-10')\n",
       "      .attr('fill', 'none')\n",
       "      .attr('stroke-width', 1.0)\n",
       "      .attr('stroke', '#0F0');\n",
       "\n",
       "  const node_content = nodes.append('g').attr(\n",
       "      'transform',\n",
       "      `translate(0,${options.node_padding - options.node_y_size / 2})`);\n",
       "\n",
       "  node_content.append(node => create_node_element(options, node));\n",
       "}\n",
       "\n",
       "/**\n",
       " * Creates the D3 content for a single node.\n",
       " * @param {!options} options Dictionary of configurations.\n",
       " * @param {!node} node Node to draw.\n",
       " * @return {!d3} D3 content.\n",
       " */\n",
       "function create_node_element(options, node) {\n",
       "  // Output accumulator.\n",
       "  let output = {\n",
       "    // Content to draw.\n",
       "    content: d3.create('svg:g'),\n",
       "    // Vertical offset to the next element to draw.\n",
       "    vertical_offset: 0\n",
       "  };\n",
       "\n",
       "  // Conditions.\n",
       "  if (node.data.condition != null) {\n",
       "    display_condition(options, node.data.condition, output);\n",
       "  }\n",
       "\n",
       "  // Values.\n",
       "  if (node.data.value != null) {\n",
       "    display_value(options, node.data.value, output);\n",
       "  }\n",
       "\n",
       "  // Explanations.\n",
       "  if (node.data.explanation != null) {\n",
       "    display_explanation(options, node.data.explanation, output);\n",
       "  }\n",
       "\n",
       "  return output.content.node();\n",
       "}\n",
       "\n",
       "\n",
       "/**\n",
       " * Adds a single line of text inside of a node.\n",
       " * @param {!options} options Dictionary of configurations.\n",
       " * @param {string} text Text to display.\n",
       " * @param {!output} output Output display accumulator.\n",
       " */\n",
       "function display_node_text(options, text, output) {\n",
       "  output.content.append('text')\n",
       "      .attr('x', options.node_padding)\n",
       "      .attr('y', output.vertical_offset)\n",
       "      .attr('alignment-baseline', 'hanging')\n",
       "      .text(text);\n",
       "  output.vertical_offset += 10;\n",
       "}\n",
       "\n",
       "/**\n",
       " * Adds a single line of text inside of a node with a tooltip.\n",
       " * @param {!options} options Dictionary of configurations.\n",
       " * @param {string} text Text to display.\n",
       " * @param {string} tooltip Text in the Tooltip.\n",
       " * @param {!output} output Output display accumulator.\n",
       " */\n",
       "function display_node_text_with_tooltip(options, text, tooltip, output) {\n",
       "  const item = output.content.append('text')\n",
       "                   .attr('x', options.node_padding)\n",
       "                   .attr('alignment-baseline', 'hanging')\n",
       "                   .text(text);\n",
       "\n",
       "  add_tooltip(options, item, () => tooltip);\n",
       "  output.vertical_offset += 10;\n",
       "}\n",
       "\n",
       "/**\n",
       " * Adds a tooltip to a dom element.\n",
       " * @param {!options} options Dictionary of configurations.\n",
       " * @param {!dom} target Dom element to equip with a tooltip.\n",
       " * @param {!func} get_content Generates the html content of the tooltip.\n",
       " */\n",
       "function add_tooltip(options, target, get_content) {\n",
       "  function show(d) {\n",
       "    options.tooltip.style('display', 'block');\n",
       "    options.tooltip.html(get_content());\n",
       "  }\n",
       "\n",
       "  function hide(d) {\n",
       "    options.tooltip.style('display', 'none');\n",
       "  }\n",
       "\n",
       "  function move(d) {\n",
       "    options.tooltip.style('display', 'block');\n",
       "    options.tooltip.style('left', (d.pageX + 5) + 'px');\n",
       "    options.tooltip.style('top', d.pageY + 'px');\n",
       "  }\n",
       "\n",
       "  target.on('mouseover', show);\n",
       "  target.on('mouseout', hide);\n",
       "  target.on('mousemove', move);\n",
       "}\n",
       "\n",
       "/**\n",
       " * Adds a condition inside of a node.\n",
       " * @param {!options} options Dictionary of configurations.\n",
       " * @param {!condition} condition Condition to display.\n",
       " * @param {!output} output Output display accumulator.\n",
       " */\n",
       "function display_condition(options, condition, output) {\n",
       "  threshold_format = d3.format('r');\n",
       "\n",
       "  if (condition.type === 'IS_MISSING') {\n",
       "    display_node_text(options, `${condition.attribute} is missing`, output);\n",
       "    return;\n",
       "  }\n",
       "\n",
       "  if (condition.type === 'IS_TRUE') {\n",
       "    display_node_text(options, `${condition.attribute} is true`, output);\n",
       "    return;\n",
       "  }\n",
       "\n",
       "  if (condition.type === 'NUMERICAL_IS_HIGHER_THAN') {\n",
       "    format = d3.format('r');\n",
       "    display_node_text(\n",
       "        options,\n",
       "        `${condition.attribute} >= ${threshold_format(condition.threshold)}`,\n",
       "        output);\n",
       "    return;\n",
       "  }\n",
       "\n",
       "  if (condition.type === 'CATEGORICAL_IS_IN') {\n",
       "    display_node_text_with_tooltip(\n",
       "        options, `${condition.attribute} in [...]`,\n",
       "        `${condition.attribute} in [${condition.mask}]`, output);\n",
       "    return;\n",
       "  }\n",
       "\n",
       "  if (condition.type === 'CATEGORICAL_SET_CONTAINS') {\n",
       "    display_node_text_with_tooltip(\n",
       "        options, `${condition.attribute} intersect [...]`,\n",
       "        `${condition.attribute} intersect [${condition.mask}]`, output);\n",
       "    return;\n",
       "  }\n",
       "\n",
       "  if (condition.type === 'NUMERICAL_SPARSE_OBLIQUE') {\n",
       "    display_node_text_with_tooltip(\n",
       "        options, `Sparse oblique split...`,\n",
       "        `[${condition.attributes}]*[${condition.weights}]>=${\n",
       "            threshold_format(condition.threshold)}`,\n",
       "        output);\n",
       "    return;\n",
       "  }\n",
       "\n",
       "  display_node_text(\n",
       "      options, `Non supported condition ${condition.type}`, output);\n",
       "}\n",
       "\n",
       "/**\n",
       " * Adds a value inside of a node.\n",
       " * @param {!options} options Dictionary of configurations.\n",
       " * @param {!value} value Value to display.\n",
       " * @param {!output} output Output display accumulator.\n",
       " */\n",
       "function display_value(options, value, output) {\n",
       "  if (value.type === 'PROBABILITY') {\n",
       "    const left_margin = 0;\n",
       "    const right_margin = 50;\n",
       "    const plot_width = options.node_x_size - options.node_padding * 2 -\n",
       "        left_margin - right_margin;\n",
       "\n",
       "    let cusum = Array.from(d3.cumsum(value.distribution));\n",
       "    cusum.unshift(0);\n",
       "    const distribution_plot = output.content.append('g').attr(\n",
       "        'transform', `translate(0,${output.vertical_offset + 0.5})`);\n",
       "\n",
       "    distribution_plot.selectAll('rect')\n",
       "        .data(value.distribution)\n",
       "        .join('rect')\n",
       "        .attr('height', 10)\n",
       "        .attr(\n",
       "            'x',\n",
       "            (d, i) =>\n",
       "                (cusum[i] * plot_width + left_margin + options.node_padding))\n",
       "        .attr('width', (d, i) => d * plot_width)\n",
       "        .style('fill', (d, i) => d3.schemeSet1[i]);\n",
       "\n",
       "    const num_examples =\n",
       "        output.content.append('g')\n",
       "            .attr('transform', `translate(0,${output.vertical_offset})`)\n",
       "            .append('text')\n",
       "            .attr('x', options.node_x_size - options.node_padding)\n",
       "            .attr('alignment-baseline', 'hanging')\n",
       "            .attr('text-anchor', 'end')\n",
       "            .text(`(${value.num_examples})`);\n",
       "\n",
       "    const distribution_details = d3.create('ul');\n",
       "    distribution_details.selectAll('li')\n",
       "        .data(value.distribution)\n",
       "        .join('li')\n",
       "        .append('span')\n",
       "        .text(\n",
       "            (d, i) =>\n",
       "                'class ' + i + ': ' + d3.format('.3%')(value.distribution[i]));\n",
       "\n",
       "    add_tooltip(options, distribution_plot, () => distribution_details.html());\n",
       "    add_tooltip(options, num_examples, () => 'Number of examples');\n",
       "\n",
       "    output.vertical_offset += 10;\n",
       "    return;\n",
       "  }\n",
       "\n",
       "  if (value.type === 'REGRESSION') {\n",
       "    display_node_text(\n",
       "        options,\n",
       "        'value: ' + d3.format('r')(value.value) + ` (` +\n",
       "            d3.format('.6')(value.num_examples) + `)`,\n",
       "        output);\n",
       "    return;\n",
       "  }\n",
       "\n",
       "  display_node_text(options, `Non supported value ${value.type}`, output);\n",
       "}\n",
       "\n",
       "/**\n",
       " * Adds an explanation inside of a node.\n",
       " * @param {!options} options Dictionary of configurations.\n",
       " * @param {!explanation} explanation Explanation to display.\n",
       " * @param {!output} output Output display accumulator.\n",
       " */\n",
       "function display_explanation(options, explanation, output) {\n",
       "  // Margin before the explanation.\n",
       "  output.vertical_offset += 10;\n",
       "\n",
       "  display_node_text(\n",
       "      options, `Non supported explanation ${explanation.type}`, output);\n",
       "}\n",
       "\n",
       "\n",
       "/**\n",
       " * Draw the edges of the tree.\n",
       " * @param {!options} options Dictionary of configurations.\n",
       " * @param {!graph} graph D3 search handle containing the graph.\n",
       " * @param {!tree_struct} tree_struct Structure of the tree (node placement,\n",
       " *     data, etc.).\n",
       " */\n",
       "function display_edges(options, graph, tree_struct) {\n",
       "  // Draw an edge between a parent and a child node with a bezier.\n",
       "  function draw_single_edge(d) {\n",
       "    return 'M' + (d.source.y + options.node_x_size) + ',' + d.source.x + ' C' +\n",
       "        (d.source.y + options.node_x_size + options.edge_rounding) + ',' +\n",
       "        d.source.x + ' ' + (d.target.y - options.edge_rounding) + ',' +\n",
       "        d.target.x + ' ' + d.target.y + ',' + d.target.x;\n",
       "  }\n",
       "\n",
       "  graph.append('g')\n",
       "      .attr('fill', 'none')\n",
       "      .attr('stroke-width', 1.2)\n",
       "      .selectAll('path')\n",
       "      .data(tree_struct.links())\n",
       "      .join('path')\n",
       "      .attr('d', draw_single_edge)\n",
       "      .attr(\n",
       "          'stroke', d => (d.target === d.source.children[0]) ? '#0F0' : '#F00');\n",
       "}\n",
       "\n",
       "display_tree({\"margin\": 10, \"node_x_size\": 160, \"node_y_size\": 28, \"node_x_offset\": 180, \"node_y_offset\": 33, \"font_size\": 10, \"edge_rounding\": 20, \"node_padding\": 2, \"show_plot_bounding_box\": false}, {\"value\": {\"type\": \"PROBABILITY\", \"distribution\": [0.5227602930870747, 0.4772397069129253], \"num_examples\": 478.8338456749916}, \"condition\": {\"type\": \"NUMERICAL_IS_HIGHER_THAN\", \"attribute\": \"FR\", \"threshold\": 2.7061350345611572}, \"children\": [{\"value\": {\"type\": \"PROBABILITY\", \"distribution\": [0.014929499065309356, 0.9850705009346906], \"num_examples\": 40.59683209657669}, \"condition\": {\"type\": \"NUMERICAL_IS_HIGHER_THAN\", \"attribute\": \"CC\", \"threshold\": 0.6739449501037598}, \"children\": [{\"value\": {\"type\": \"PROBABILITY\", \"distribution\": [0.050373132637029645, 0.9496268673629703], \"num_examples\": 12.032016575336456}}, {\"value\": {\"type\": \"PROBABILITY\", \"distribution\": [0.0, 1.0], \"num_examples\": 28.564815521240234}}]}, {\"value\": {\"type\": \"PROBABILITY\", \"distribution\": [0.569804063557375, 0.43019593644262494], \"num_examples\": 438.2370135784149}, \"condition\": {\"type\": \"NUMERICAL_IS_HIGHER_THAN\", \"attribute\": \"DI\", \"threshold\": 268.67132568359375}, \"children\": [{\"value\": {\"type\": \"PROBABILITY\", \"distribution\": [0.06605504369032043, 0.9339449563096796], \"num_examples\": 45.877675116062164}, \"condition\": {\"type\": \"NUMERICAL_IS_HIGHER_THAN\", \"attribute\": \"EL\", \"threshold\": 85.41004180908203}, \"children\": [{\"value\": {\"type\": \"PROBABILITY\", \"distribution\": [0.0, 1.0], \"num_examples\": 31.421297073364258}}, {\"value\": {\"type\": \"PROBABILITY\", \"distribution\": [0.20962732333445935, 0.7903726766655407], \"num_examples\": 14.456378042697906}}]}, {\"value\": {\"type\": \"PROBABILITY\", \"distribution\": [0.628706277951115, 0.371293722048885], \"num_examples\": 392.35933846235275}, \"condition\": {\"type\": \"NUMERICAL_IS_HIGHER_THAN\", \"attribute\": \"FL\", \"threshold\": 10.433052062988281}, \"children\": [{\"value\": {\"type\": \"PROBABILITY\", \"distribution\": [0.13424047737713196, 0.865759522622868], \"num_examples\": 85.7842373251915}, \"condition\": {\"type\": \"NUMERICAL_IS_HIGHER_THAN\", \"attribute\": \"EG\", \"threshold\": 1536.67919921875}}, {\"value\": {\"type\": \"PROBABILITY\", \"distribution\": [0.767065105619419, 0.23293489438058096], \"num_examples\": 306.57510113716125}, \"condition\": {\"type\": \"NUMERICAL_IS_HIGHER_THAN\", \"attribute\": \"DN\", \"threshold\": 25.685535430908203}}]}]}]}, \"#tree_plot_0512498ff01a45d2834a22dfc3ef4840\")\n",
       "</script>\n"
      ],
      "text/plain": [
       "<IPython.core.display.HTML object>"
      ]
     },
     "execution_count": 16,
     "metadata": {},
     "output_type": "execute_result"
    }
   ],
   "source": [
    "tfdf.model_plotter.plot_model_in_colab(models['fold_1'], tree_idx=0, max_depth=3)"
   ]
  },
  {
   "cell_type": "markdown",
   "id": "b8f81963",
   "metadata": {
    "papermill": {
     "duration": 0.015923,
     "end_time": "2023-06-05T10:07:41.571370",
     "exception": false,
     "start_time": "2023-06-05T10:07:41.555447",
     "status": "completed"
    },
    "tags": []
   },
   "source": [
    "# Evaluate the model on the Out of bag (OOB) data and the validation dataset\n",
    "\n",
    "Before training, we have manually seperated 20% of the dataset for validation named as `valid_ds`.\n",
    "\n",
    "We can also use Out of bag (OOB) score to validate our RandomForestModel.\n",
    "To train a Random Forest Model, a set of random samples from training set are choosen by the algorithm and the rest of the samples are used to finetune the model. The subset of data that is not chosen is known as Out of bag data (OOB).\n",
    "OOB score is computed on the OOB data.\n",
    "\n",
    "Read more about OOB data [here](https://developers.google.com/machine-learning/decision-forests/out-of-bag).\n",
    "\n",
    "The training logs show the `binary_crossentropy` evaluated on the out of bag dataset according to the number of trees in the model. Let us plot this for the models of each fold.\n",
    "\n",
    "Note: Smaller values are better for this hyperparameter."
   ]
  },
  {
   "cell_type": "code",
   "execution_count": 17,
   "id": "4a63c788",
   "metadata": {
    "execution": {
     "iopub.execute_input": "2023-06-05T10:07:41.606531Z",
     "iopub.status.busy": "2023-06-05T10:07:41.606190Z",
     "iopub.status.idle": "2023-06-05T10:07:42.411918Z",
     "shell.execute_reply": "2023-06-05T10:07:42.409789Z"
    },
    "papermill": {
     "duration": 0.826421,
     "end_time": "2023-06-05T10:07:42.414531",
     "exception": false,
     "start_time": "2023-06-05T10:07:41.588110",
     "status": "completed"
    },
    "tags": []
   },
   "outputs": [
    {
     "data": {
      "image/png": "[encoded data removed]",
      "text/plain": [
       "<Figure size 1000x1000 with 6 Axes>"
      ]
     },
     "metadata": {},
     "output_type": "display_data"
    }
   ],
   "source": [
    "figure, axis = plt.subplots(3, 2, figsize=(10, 10))\n",
    "plt.subplots_adjust(hspace=0.5, wspace=0.3)\n",
    "\n",
    "for i, fold_no in enumerate(models.keys()):\n",
    "    row = i//2\n",
    "    col = i % 2\n",
    "    logs = models[fold_no].make_inspector().training_logs()\n",
    "    axis[row, col].plot([log.num_trees for log in logs], [log.evaluation.loss for log in logs])\n",
    "    axis[row, col].set_title(f\"Fold {i+1}\")\n",
    "    axis[row, col].set_xlabel('Number of trees')\n",
    "    axis[row, col].set_ylabel('Loss (out-of-bag)')\n",
    "\n",
    "axis[2][1].set_visible(False)\n",
    "plt.show()"
   ]
  },
  {
   "cell_type": "markdown",
   "id": "c672ed97",
   "metadata": {
    "papermill": {
     "duration": 0.016909,
     "end_time": "2023-06-05T10:07:42.448588",
     "exception": false,
     "start_time": "2023-06-05T10:07:42.431679",
     "status": "completed"
    },
    "tags": []
   },
   "source": [
    "We can also see some general stats on the OOB dataset:"
   ]
  },
  {
   "cell_type": "code",
   "execution_count": 18,
   "id": "20c6dcb9",
   "metadata": {
    "execution": {
     "iopub.execute_input": "2023-06-05T10:07:42.487313Z",
     "iopub.status.busy": "2023-06-05T10:07:42.486898Z",
     "iopub.status.idle": "2023-06-05T10:07:42.503092Z",
     "shell.execute_reply": "2023-06-05T10:07:42.501065Z"
    },
    "papermill": {
     "duration": 0.038262,
     "end_time": "2023-06-05T10:07:42.505631",
     "exception": false,
     "start_time": "2023-06-05T10:07:42.467369",
     "status": "completed"
    },
    "tags": []
   },
   "outputs": [
    {
     "name": "stdout",
     "output_type": "stream",
     "text": [
      "fold_1 Evaluation(num_examples=493, accuracy=0.83384120423487, loss=0.4011864148867133, rmse=None, ndcg=None, aucs=None, auuc=None, qini=None)\n",
      "fold_2 Evaluation(num_examples=493, accuracy=0.86791143186256, loss=0.374230902610848, rmse=None, ndcg=None, aucs=None, auuc=None, qini=None)\n",
      "fold_3 Evaluation(num_examples=494, accuracy=0.8625237360976467, loss=0.39912028399338717, rmse=None, ndcg=None, aucs=None, auuc=None, qini=None)\n",
      "fold_4 Evaluation(num_examples=494, accuracy=0.8742180068903357, loss=0.38689070260817593, rmse=None, ndcg=None, aucs=None, auuc=None, qini=None)\n",
      "fold_5 Evaluation(num_examples=494, accuracy=0.8477430594687857, loss=0.39049966583287166, rmse=None, ndcg=None, aucs=None, auuc=None, qini=None)\n"
     ]
    }
   ],
   "source": [
    "for _model in models:\n",
    "    inspector = models[_model].make_inspector()\n",
    "    print(_model, inspector.evaluation())"
   ]
  },
  {
   "cell_type": "markdown",
   "id": "1e075c8f",
   "metadata": {
    "papermill": {
     "duration": 0.016889,
     "end_time": "2023-06-05T10:07:42.540152",
     "exception": false,
     "start_time": "2023-06-05T10:07:42.523263",
     "status": "completed"
    },
    "tags": []
   },
   "source": [
    "Now, let us check the evaluation metrics for each fold and its average value."
   ]
  },
  {
   "cell_type": "code",
   "execution_count": 19,
   "id": "b1eb9e8a",
   "metadata": {
    "execution": {
     "iopub.execute_input": "2023-06-05T10:07:42.578206Z",
     "iopub.status.busy": "2023-06-05T10:07:42.577840Z",
     "iopub.status.idle": "2023-06-05T10:07:42.583977Z",
     "shell.execute_reply": "2023-06-05T10:07:42.583019Z"
    },
    "papermill": {
     "duration": 0.0284,
     "end_time": "2023-06-05T10:07:42.586702",
     "exception": false,
     "start_time": "2023-06-05T10:07:42.558302",
     "status": "completed"
    },
    "tags": []
   },
   "outputs": [
    {
     "name": "stdout",
     "output_type": "stream",
     "text": [
      "fold_1: acc: 0.9516 loss: 0.2182\n",
      "fold_2: acc: 0.8790 loss: 0.2608\n",
      "fold_3: acc: 0.9024 loss: 0.2741\n",
      "fold_4: acc: 0.9024 loss: 0.2717\n",
      "fold_5: acc: 0.9512 loss: 0.2172\n",
      "\n",
      "Average accuracy: 0.9173  Average loss: 0.2484\n"
     ]
    }
   ],
   "source": [
    "average_loss = 0\n",
    "average_acc = 0\n",
    "\n",
    "for _model in  models:\n",
    "    average_loss += cross_entropy[_model]\n",
    "    average_acc += accuracy[_model]\n",
    "    print(f\"{_model}: acc: {accuracy[_model]:.4f} loss: {cross_entropy[_model]:.4f}\")\n",
    "\n",
    "print(f\"\\nAverage accuracy: {average_acc/5:.4f}  Average loss: {average_loss/5:.4f}\")"
   ]
  },
  {
   "cell_type": "markdown",
   "id": "fe337a2d",
   "metadata": {
    "papermill": {
     "duration": 0.016172,
     "end_time": "2023-06-05T10:07:42.619965",
     "exception": false,
     "start_time": "2023-06-05T10:07:42.603793",
     "status": "completed"
    },
    "tags": []
   },
   "source": [
    "# Variable importances\n",
    "\n",
    "Variable importances generally indicate how much a feature contributes to the model predictions or quality. There are several ways to identify important features using TensorFlow Decision Forests. Let us pick one model from models dict and inspect it.\n",
    "\n",
    "Let us list the available `Variable Importances` for Decision Trees:"
   ]
  },
  {
   "cell_type": "code",
   "execution_count": 20,
   "id": "a7bf7857",
   "metadata": {
    "execution": {
     "iopub.execute_input": "2023-06-05T10:07:42.657300Z",
     "iopub.status.busy": "2023-06-05T10:07:42.656957Z",
     "iopub.status.idle": "2023-06-05T10:07:42.667086Z",
     "shell.execute_reply": "2023-06-05T10:07:42.665739Z"
    },
    "papermill": {
     "duration": 0.031159,
     "end_time": "2023-06-05T10:07:42.669265",
     "exception": false,
     "start_time": "2023-06-05T10:07:42.638106",
     "status": "completed"
    },
    "tags": []
   },
   "outputs": [
    {
     "name": "stdout",
     "output_type": "stream",
     "text": [
      "Available variable importances:\n",
      "\t SUM_SCORE\n",
      "\t NUM_AS_ROOT\n",
      "\t INV_MEAN_MIN_DEPTH\n",
      "\t NUM_NODES\n"
     ]
    }
   ],
   "source": [
    "inspector = models['fold_1'].make_inspector()\n",
    "\n",
    "print(f\"Available variable importances:\")\n",
    "for importance in inspector.variable_importances().keys():\n",
    "  print(\"\\t\", importance)"
   ]
  },
  {
   "cell_type": "markdown",
   "id": "e7eb6fe4",
   "metadata": {
    "papermill": {
     "duration": 0.0184,
     "end_time": "2023-06-05T10:07:42.705094",
     "exception": false,
     "start_time": "2023-06-05T10:07:42.686694",
     "status": "completed"
    },
    "tags": []
   },
   "source": [
    "As an example, let us display the important features for the Variable Importance `NUM_AS_ROOT`.\n",
    "\n",
    "The larger the importance score for `NUM_AS_ROOT`, the more impact it has on the outcome of the model.\n",
    "\n",
    "By default, the list is sorted from the most important to the least. From the output you can infer that the feature at the top of the list is used as the root node in most number of trees in the random forest than any other feature."
   ]
  },
  {
   "cell_type": "code",
   "execution_count": 21,
   "id": "b2854e2e",
   "metadata": {
    "execution": {
     "iopub.execute_input": "2023-06-05T10:07:42.741880Z",
     "iopub.status.busy": "2023-06-05T10:07:42.741472Z",
     "iopub.status.idle": "2023-06-05T10:07:42.749400Z",
     "shell.execute_reply": "2023-06-05T10:07:42.748440Z"
    },
    "papermill": {
     "duration": 0.028851,
     "end_time": "2023-06-05T10:07:42.751331",
     "exception": false,
     "start_time": "2023-06-05T10:07:42.722480",
     "status": "completed"
    },
    "tags": []
   },
   "outputs": [
    {
     "data": {
      "text/plain": [
       "[(\"DU\" (1; #32), 47.0),\n",
       " (\"DI\" (1; #29), 25.0),\n",
       " (\"DA\" (1; #25), 21.0),\n",
       " (\"AB\" (1; #0), 19.0),\n",
       " (\"FL\" (1; #47), 19.0),\n",
       " (\"GL\" (1; #55), 18.0),\n",
       " (\"BQ\" (1; #12), 16.0),\n",
       " (\"CR\" (1; #21), 16.0),\n",
       " (\"FD_\" (1; #44), 16.0),\n",
       " (\"CD_\" (1; #17), 14.0),\n",
       " (\"AF\" (1; #1), 13.0),\n",
       " (\"CC\" (1; #16), 8.0),\n",
       " (\"DF\" (1; #27), 7.0),\n",
       " (\"AR\" (1; #4), 6.0),\n",
       " (\"DH\" (1; #28), 6.0),\n",
       " (\"EB\" (1; #35), 6.0),\n",
       " (\"FI\" (1; #46), 6.0),\n",
       " (\"BC\" (1; #8), 5.0),\n",
       " (\"EH\" (1; #38), 5.0),\n",
       " (\"FR\" (1; #48), 5.0),\n",
       " (\"DE\" (1; #26), 4.0),\n",
       " (\"DL\" (1; #30), 4.0),\n",
       " (\"EE\" (1; #36), 4.0),\n",
       " (\"FE\" (1; #45), 4.0),\n",
       " (\"EU\" (1; #42), 3.0),\n",
       " (\"BN\" (1; #10), 2.0),\n",
       " (\"EL\" (1; #40), 1.0)]"
      ]
     },
     "execution_count": 21,
     "metadata": {},
     "output_type": "execute_result"
    }
   ],
   "source": [
    "# Each line is: (feature name, (index of the feature), importance score)\n",
    "inspector.variable_importances()[\"NUM_AS_ROOT\"]"
   ]
  },
  {
   "cell_type": "markdown",
   "id": "cacfd997",
   "metadata": {
    "papermill": {
     "duration": 0.017155,
     "end_time": "2023-06-05T10:07:42.785633",
     "exception": false,
     "start_time": "2023-06-05T10:07:42.768478",
     "status": "completed"
    },
    "tags": []
   },
   "source": [
    "# Submission"
   ]
  },
  {
   "cell_type": "code",
   "execution_count": 22,
   "id": "c3f990dc",
   "metadata": {
    "execution": {
     "iopub.execute_input": "2023-06-05T10:07:42.822000Z",
     "iopub.status.busy": "2023-06-05T10:07:42.821592Z",
     "iopub.status.idle": "2023-06-05T10:07:43.009099Z",
     "shell.execute_reply": "2023-06-05T10:07:43.007350Z"
    },
    "papermill": {
     "duration": 0.20889,
     "end_time": "2023-06-05T10:07:43.011937",
     "exception": false,
     "start_time": "2023-06-05T10:07:42.803047",
     "status": "completed"
    },
    "tags": []
   },
   "outputs": [
    {
     "name": "stdout",
     "output_type": "stream",
     "text": [
      "Warning: Some of the feature names have been changed automatically to be compatible with SavedModels because fix_feature_names=True.\n",
      "1/1 [==============================] - 0s 112ms/step\n",
      "[[0.65333357, 0.34666643], [0.65333357, 0.34666643], [0.65333357, 0.34666643], [0.65333357, 0.34666643], [0.65333357, 0.34666643]]\n"
     ]
    }
   ],
   "source": [
    "test_df = pd.read_csv('/kaggle/input/icr-identify-age-related-conditions/test.csv')\n",
    "test_ds_pd = test_df\n",
    "test_df_columns = test_ds_pd.columns.tolist()\n",
    "TEST_FEATURE_COLUMNS = [i for i in FEATURE_COLUMNS \\\n",
    "                        if i in test_df_columns and i != \"Class\"]\n",
    "test_ds_pd = test_ds_pd[TEST_FEATURE_COLUMNS]\n",
    "test_ds = tfdf.keras.pd_dataframe_to_tf_dataset(test_ds_pd)\n",
    "predictions = models['fold_1'].predict(test_ds)\n",
    "n_predictions= [[round(abs(i-1), 8), i] for i in predictions.ravel()]\n",
    "print(n_predictions)"
   ]
  },
  {
   "cell_type": "code",
   "execution_count": 23,
   "id": "5f930754",
   "metadata": {
    "execution": {
     "iopub.execute_input": "2023-06-05T10:07:43.051548Z",
     "iopub.status.busy": "2023-06-05T10:07:43.051086Z",
     "iopub.status.idle": "2023-06-05T10:07:43.069391Z",
     "shell.execute_reply": "2023-06-05T10:07:43.068239Z"
    },
    "papermill": {
     "duration": 0.042,
     "end_time": "2023-06-05T10:07:43.072071",
     "exception": false,
     "start_time": "2023-06-05T10:07:43.030071",
     "status": "completed"
    },
    "tags": []
   },
   "outputs": [],
   "source": [
    "sample_submission = pd.read_csv(\"/kaggle/input/icr-identify-age-related-conditions/sample_submission.csv\")\n",
    "sample_submission[['class_0', 'class_1']] = n_predictions\n",
    "sample_submission.to_csv('/kaggle/working/submission.csv', index=False)"
   ]
  }
 ],
 "metadata": {
  "kernelspec": {
   "display_name": "Python 3 (ipykernel)",
   "language": "python",
   "name": "python3"
  },
  "language_info": {
   "codemirror_mode": {
    "name": "ipython",
    "version": 3
   },
   "file_extension": ".py",
   "mimetype": "text/x-python",
   "name": "python",
   "nbconvert_exporter": "python",
   "pygments_lexer": "ipython3",
   "version": "3.10.11"
  },
  "papermill": {
   "default_parameters": {},
   "duration": 71.390601,
   "end_time": "2023-06-05T10:07:45.711132",
   "environment_variables": {},
   "exception": null,
   "input_path": "__notebook__.ipynb",
   "output_path": "__notebook__.ipynb",
   "parameters": {},
   "start_time": "2023-06-05T10:06:34.320531",
   "version": "2.4.0"
  }
 },
 "nbformat": 4,
 "nbformat_minor": 5
}
