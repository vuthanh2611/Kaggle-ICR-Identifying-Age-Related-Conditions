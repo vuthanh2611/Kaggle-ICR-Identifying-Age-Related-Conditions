{
 "cells": [
  {
   "cell_type": "code",
   "execution_count": 1,
   "metadata": {},
   "outputs": [],
   "source": [
    "import warnings\n",
    "\n",
    "import pandas as pd\n",
    "import numpy as np\n",
    "from sklearn.metrics import mean_squared_error, mean_absolute_error, r2_score\n",
    "from sklearn.model_selection import train_test_split\n",
    "from sklearn.model_selection import ParameterGrid\n",
    "from sklearn.ensemble import RandomForestClassifier, GradientBoostingClassifier\n",
    "from sklearn.linear_model import LogisticRegression\n",
    "from sklearn.tree import DecisionTreeClassifier\n",
    "#from xgboost import XGBClassifier\n",
    "from sklearn.preprocessing import LabelEncoder\n",
    "from imblearn.over_sampling import SMOTE\n",
    "from sklearn.metrics import accuracy_score, precision_score, recall_score, f1_score\n",
    "\n",
    "import mlflow\n",
    "from mlflow.models import infer_signature\n",
    "import mlflow.sklearn\n",
    "\n",
    "import logging\n",
    "\n",
    "import matplotlib.pyplot as plt\n",
    "import seaborn as sns\n",
    "import joblib"
   ]
  },
  {
   "cell_type": "code",
   "execution_count": 2,
   "metadata": {},
   "outputs": [],
   "source": [
    "# print(\"TensorFlow v\" + tf.__version__)\n",
    "#print(\"TensorFlow Decision Forests v\" + tfdf.__version__)"
   ]
  },
  {
   "cell_type": "code",
   "execution_count": 3,
   "metadata": {},
   "outputs": [
    {
     "name": "stdout",
     "output_type": "stream",
     "text": [
      "Full train dataset shape is (431, 58)\n"
     ]
    }
   ],
   "source": [
    "dataset_df = pd.read_csv('data-splitted/train_dataset.csv')\n",
    "print(\"Full train dataset shape is {}\".format(dataset_df.shape))"
   ]
  },
  {
   "cell_type": "code",
   "execution_count": 4,
   "metadata": {},
   "outputs": [
    {
     "data": {
      "text/html": [
       "<div>\n",
       "<style scoped>\n",
       "    .dataframe tbody tr th:only-of-type {\n",
       "        vertical-align: middle;\n",
       "    }\n",
       "\n",
       "    .dataframe tbody tr th {\n",
       "        vertical-align: top;\n",
       "    }\n",
       "\n",
       "    .dataframe thead th {\n",
       "        text-align: right;\n",
       "    }\n",
       "</style>\n",
       "<table border=\"1\" class=\"dataframe\">\n",
       "  <thead>\n",
       "    <tr style=\"text-align: right;\">\n",
       "      <th></th>\n",
       "      <th>Id</th>\n",
       "      <th>AB</th>\n",
       "      <th>AF</th>\n",
       "      <th>AH</th>\n",
       "      <th>AM</th>\n",
       "      <th>AR</th>\n",
       "      <th>AX</th>\n",
       "      <th>AY</th>\n",
       "      <th>AZ</th>\n",
       "      <th>BC</th>\n",
       "      <th>...</th>\n",
       "      <th>FL</th>\n",
       "      <th>FR</th>\n",
       "      <th>FS</th>\n",
       "      <th>GB</th>\n",
       "      <th>GE</th>\n",
       "      <th>GF</th>\n",
       "      <th>GH</th>\n",
       "      <th>GI</th>\n",
       "      <th>GL</th>\n",
       "      <th>Class</th>\n",
       "    </tr>\n",
       "  </thead>\n",
       "  <tbody>\n",
       "    <tr>\n",
       "      <th>0</th>\n",
       "      <td>9ef1886b810c</td>\n",
       "      <td>0.252107</td>\n",
       "      <td>6382.61448</td>\n",
       "      <td>410.629350</td>\n",
       "      <td>6.073217</td>\n",
       "      <td>17.952834</td>\n",
       "      <td>4.996476</td>\n",
       "      <td>0.038671</td>\n",
       "      <td>14.689962</td>\n",
       "      <td>9.572136</td>\n",
       "      <td>...</td>\n",
       "      <td>7.020590</td>\n",
       "      <td>2.00158</td>\n",
       "      <td>0.629889</td>\n",
       "      <td>26.706042</td>\n",
       "      <td>72.611063</td>\n",
       "      <td>8776.686879</td>\n",
       "      <td>19.125940</td>\n",
       "      <td>145.114812</td>\n",
       "      <td>0.171564</td>\n",
       "      <td>1</td>\n",
       "    </tr>\n",
       "    <tr>\n",
       "      <th>1</th>\n",
       "      <td>ac38de805eff</td>\n",
       "      <td>0.679407</td>\n",
       "      <td>5885.36377</td>\n",
       "      <td>85.200147</td>\n",
       "      <td>9.427268</td>\n",
       "      <td>8.138688</td>\n",
       "      <td>2.294481</td>\n",
       "      <td>0.025578</td>\n",
       "      <td>8.079164</td>\n",
       "      <td>1.229900</td>\n",
       "      <td>...</td>\n",
       "      <td>38.083826</td>\n",
       "      <td>1.35662</td>\n",
       "      <td>0.067730</td>\n",
       "      <td>15.766890</td>\n",
       "      <td>118.826134</td>\n",
       "      <td>384.850764</td>\n",
       "      <td>16.435657</td>\n",
       "      <td>14.158860</td>\n",
       "      <td>0.069015</td>\n",
       "      <td>1</td>\n",
       "    </tr>\n",
       "    <tr>\n",
       "      <th>2</th>\n",
       "      <td>0f9257f237b4</td>\n",
       "      <td>0.162374</td>\n",
       "      <td>3245.45474</td>\n",
       "      <td>85.200147</td>\n",
       "      <td>14.469184</td>\n",
       "      <td>8.138688</td>\n",
       "      <td>4.208025</td>\n",
       "      <td>0.038671</td>\n",
       "      <td>8.009842</td>\n",
       "      <td>1.229900</td>\n",
       "      <td>...</td>\n",
       "      <td>6.169800</td>\n",
       "      <td>0.88885</td>\n",
       "      <td>0.331877</td>\n",
       "      <td>17.915652</td>\n",
       "      <td>1228.992706</td>\n",
       "      <td>4256.400636</td>\n",
       "      <td>15.803087</td>\n",
       "      <td>105.475148</td>\n",
       "      <td>7.128000</td>\n",
       "      <td>0</td>\n",
       "    </tr>\n",
       "    <tr>\n",
       "      <th>3</th>\n",
       "      <td>000ff2bfdfe9</td>\n",
       "      <td>0.209377</td>\n",
       "      <td>3109.03329</td>\n",
       "      <td>85.200147</td>\n",
       "      <td>22.394407</td>\n",
       "      <td>8.138688</td>\n",
       "      <td>0.699861</td>\n",
       "      <td>0.025578</td>\n",
       "      <td>9.812214</td>\n",
       "      <td>5.555634</td>\n",
       "      <td>...</td>\n",
       "      <td>7.298162</td>\n",
       "      <td>1.73855</td>\n",
       "      <td>0.094822</td>\n",
       "      <td>11.339138</td>\n",
       "      <td>72.611063</td>\n",
       "      <td>2003.810319</td>\n",
       "      <td>22.136229</td>\n",
       "      <td>69.834944</td>\n",
       "      <td>0.120343</td>\n",
       "      <td>1</td>\n",
       "    </tr>\n",
       "    <tr>\n",
       "      <th>4</th>\n",
       "      <td>fbd12c4ae88b</td>\n",
       "      <td>0.581128</td>\n",
       "      <td>4268.30888</td>\n",
       "      <td>85.200147</td>\n",
       "      <td>43.212441</td>\n",
       "      <td>11.835708</td>\n",
       "      <td>6.343044</td>\n",
       "      <td>0.025578</td>\n",
       "      <td>7.045636</td>\n",
       "      <td>11.188576</td>\n",
       "      <td>...</td>\n",
       "      <td>0.173229</td>\n",
       "      <td>1.20640</td>\n",
       "      <td>0.196417</td>\n",
       "      <td>17.255210</td>\n",
       "      <td>72.611063</td>\n",
       "      <td>38475.318010</td>\n",
       "      <td>27.766102</td>\n",
       "      <td>133.988340</td>\n",
       "      <td>21.978000</td>\n",
       "      <td>0</td>\n",
       "    </tr>\n",
       "  </tbody>\n",
       "</table>\n",
       "<p>5 rows × 58 columns</p>\n",
       "</div>"
      ],
      "text/plain": [
       "             Id        AB          AF          AH         AM         AR  \\\n",
       "0  9ef1886b810c  0.252107  6382.61448  410.629350   6.073217  17.952834   \n",
       "1  ac38de805eff  0.679407  5885.36377   85.200147   9.427268   8.138688   \n",
       "2  0f9257f237b4  0.162374  3245.45474   85.200147  14.469184   8.138688   \n",
       "3  000ff2bfdfe9  0.209377  3109.03329   85.200147  22.394407   8.138688   \n",
       "4  fbd12c4ae88b  0.581128  4268.30888   85.200147  43.212441  11.835708   \n",
       "\n",
       "         AX        AY         AZ         BC  ...         FL       FR  \\\n",
       "0  4.996476  0.038671  14.689962   9.572136  ...   7.020590  2.00158   \n",
       "1  2.294481  0.025578   8.079164   1.229900  ...  38.083826  1.35662   \n",
       "2  4.208025  0.038671   8.009842   1.229900  ...   6.169800  0.88885   \n",
       "3  0.699861  0.025578   9.812214   5.555634  ...   7.298162  1.73855   \n",
       "4  6.343044  0.025578   7.045636  11.188576  ...   0.173229  1.20640   \n",
       "\n",
       "         FS         GB           GE            GF         GH          GI  \\\n",
       "0  0.629889  26.706042    72.611063   8776.686879  19.125940  145.114812   \n",
       "1  0.067730  15.766890   118.826134    384.850764  16.435657   14.158860   \n",
       "2  0.331877  17.915652  1228.992706   4256.400636  15.803087  105.475148   \n",
       "3  0.094822  11.339138    72.611063   2003.810319  22.136229   69.834944   \n",
       "4  0.196417  17.255210    72.611063  38475.318010  27.766102  133.988340   \n",
       "\n",
       "          GL  Class  \n",
       "0   0.171564      1  \n",
       "1   0.069015      1  \n",
       "2   7.128000      0  \n",
       "3   0.120343      1  \n",
       "4  21.978000      0  \n",
       "\n",
       "[5 rows x 58 columns]"
      ]
     },
     "execution_count": 4,
     "metadata": {},
     "output_type": "execute_result"
    }
   ],
   "source": [
    "dataset_df.head()"
   ]
  },
  {
   "cell_type": "code",
   "execution_count": 5,
   "metadata": {},
   "outputs": [
    {
     "data": {
      "text/html": [
       "<div>\n",
       "<style scoped>\n",
       "    .dataframe tbody tr th:only-of-type {\n",
       "        vertical-align: middle;\n",
       "    }\n",
       "\n",
       "    .dataframe tbody tr th {\n",
       "        vertical-align: top;\n",
       "    }\n",
       "\n",
       "    .dataframe thead th {\n",
       "        text-align: right;\n",
       "    }\n",
       "</style>\n",
       "<table border=\"1\" class=\"dataframe\">\n",
       "  <thead>\n",
       "    <tr style=\"text-align: right;\">\n",
       "      <th></th>\n",
       "      <th>AB</th>\n",
       "      <th>AF</th>\n",
       "      <th>AH</th>\n",
       "      <th>AM</th>\n",
       "      <th>AR</th>\n",
       "      <th>AX</th>\n",
       "      <th>AY</th>\n",
       "      <th>AZ</th>\n",
       "      <th>BC</th>\n",
       "      <th>BD</th>\n",
       "      <th>...</th>\n",
       "      <th>FL</th>\n",
       "      <th>FR</th>\n",
       "      <th>FS</th>\n",
       "      <th>GB</th>\n",
       "      <th>GE</th>\n",
       "      <th>GF</th>\n",
       "      <th>GH</th>\n",
       "      <th>GI</th>\n",
       "      <th>GL</th>\n",
       "      <th>Class</th>\n",
       "    </tr>\n",
       "  </thead>\n",
       "  <tbody>\n",
       "    <tr>\n",
       "      <th>count</th>\n",
       "      <td>431.000000</td>\n",
       "      <td>431.00000</td>\n",
       "      <td>431.000000</td>\n",
       "      <td>431.000000</td>\n",
       "      <td>431.000000</td>\n",
       "      <td>431.000000</td>\n",
       "      <td>431.000000</td>\n",
       "      <td>431.000000</td>\n",
       "      <td>431.000000</td>\n",
       "      <td>431.000000</td>\n",
       "      <td>...</td>\n",
       "      <td>430.000000</td>\n",
       "      <td>431.000000</td>\n",
       "      <td>429.000000</td>\n",
       "      <td>431.000000</td>\n",
       "      <td>431.000000</td>\n",
       "      <td>431.000000</td>\n",
       "      <td>431.000000</td>\n",
       "      <td>431.000000</td>\n",
       "      <td>430.000000</td>\n",
       "      <td>431.000000</td>\n",
       "    </tr>\n",
       "    <tr>\n",
       "      <th>mean</th>\n",
       "      <td>0.476117</td>\n",
       "      <td>3476.37516</td>\n",
       "      <td>117.347844</td>\n",
       "      <td>36.493291</td>\n",
       "      <td>9.738576</td>\n",
       "      <td>5.584510</td>\n",
       "      <td>0.042854</td>\n",
       "      <td>10.591249</td>\n",
       "      <td>9.142564</td>\n",
       "      <td>5333.301827</td>\n",
       "      <td>...</td>\n",
       "      <td>5.625919</td>\n",
       "      <td>4.494561</td>\n",
       "      <td>0.440734</td>\n",
       "      <td>20.723140</td>\n",
       "      <td>122.730342</td>\n",
       "      <td>15442.979644</td>\n",
       "      <td>31.845069</td>\n",
       "      <td>48.652089</td>\n",
       "      <td>8.566133</td>\n",
       "      <td>0.162413</td>\n",
       "    </tr>\n",
       "    <tr>\n",
       "      <th>std</th>\n",
       "      <td>0.503392</td>\n",
       "      <td>2446.89510</td>\n",
       "      <td>117.710487</td>\n",
       "      <td>59.377952</td>\n",
       "      <td>9.210571</td>\n",
       "      <td>2.676082</td>\n",
       "      <td>0.052045</td>\n",
       "      <td>4.475822</td>\n",
       "      <td>77.206921</td>\n",
       "      <td>2921.550829</td>\n",
       "      <td>...</td>\n",
       "      <td>12.899069</td>\n",
       "      <td>60.021787</td>\n",
       "      <td>1.541592</td>\n",
       "      <td>10.072465</td>\n",
       "      <td>119.919765</td>\n",
       "      <td>20788.437041</td>\n",
       "      <td>9.742185</td>\n",
       "      <td>34.719641</td>\n",
       "      <td>10.329934</td>\n",
       "      <td>0.369258</td>\n",
       "    </tr>\n",
       "    <tr>\n",
       "      <th>min</th>\n",
       "      <td>0.081187</td>\n",
       "      <td>192.59328</td>\n",
       "      <td>85.200147</td>\n",
       "      <td>4.617627</td>\n",
       "      <td>8.138688</td>\n",
       "      <td>0.699861</td>\n",
       "      <td>0.025578</td>\n",
       "      <td>3.396778</td>\n",
       "      <td>1.229900</td>\n",
       "      <td>1693.624320</td>\n",
       "      <td>...</td>\n",
       "      <td>0.173229</td>\n",
       "      <td>0.497060</td>\n",
       "      <td>0.067730</td>\n",
       "      <td>4.874248</td>\n",
       "      <td>72.611063</td>\n",
       "      <td>13.038894</td>\n",
       "      <td>9.432735</td>\n",
       "      <td>0.897628</td>\n",
       "      <td>0.001129</td>\n",
       "      <td>0.000000</td>\n",
       "    </tr>\n",
       "    <tr>\n",
       "      <th>25%</th>\n",
       "      <td>0.252107</td>\n",
       "      <td>2163.96158</td>\n",
       "      <td>85.200147</td>\n",
       "      <td>12.036490</td>\n",
       "      <td>8.138688</td>\n",
       "      <td>4.181448</td>\n",
       "      <td>0.025578</td>\n",
       "      <td>8.139033</td>\n",
       "      <td>1.229900</td>\n",
       "      <td>4153.050190</td>\n",
       "      <td>...</td>\n",
       "      <td>0.173229</td>\n",
       "      <td>0.497060</td>\n",
       "      <td>0.067730</td>\n",
       "      <td>14.501818</td>\n",
       "      <td>72.611063</td>\n",
       "      <td>2794.719186</td>\n",
       "      <td>25.239543</td>\n",
       "      <td>21.591297</td>\n",
       "      <td>0.135034</td>\n",
       "      <td>0.000000</td>\n",
       "    </tr>\n",
       "    <tr>\n",
       "      <th>50%</th>\n",
       "      <td>0.350386</td>\n",
       "      <td>3070.40404</td>\n",
       "      <td>85.200147</td>\n",
       "      <td>20.762288</td>\n",
       "      <td>8.138688</td>\n",
       "      <td>5.023053</td>\n",
       "      <td>0.025578</td>\n",
       "      <td>10.442414</td>\n",
       "      <td>1.229900</td>\n",
       "      <td>5066.115430</td>\n",
       "      <td>...</td>\n",
       "      <td>3.024156</td>\n",
       "      <td>1.131000</td>\n",
       "      <td>0.257374</td>\n",
       "      <td>18.669114</td>\n",
       "      <td>72.611063</td>\n",
       "      <td>7863.793713</td>\n",
       "      <td>31.234074</td>\n",
       "      <td>39.927728</td>\n",
       "      <td>0.339429</td>\n",
       "      <td>0.000000</td>\n",
       "    </tr>\n",
       "    <tr>\n",
       "      <th>75%</th>\n",
       "      <td>0.540535</td>\n",
       "      <td>4258.15819</td>\n",
       "      <td>115.851472</td>\n",
       "      <td>37.620807</td>\n",
       "      <td>8.138688</td>\n",
       "      <td>6.387339</td>\n",
       "      <td>0.034256</td>\n",
       "      <td>12.988422</td>\n",
       "      <td>5.000422</td>\n",
       "      <td>6043.542118</td>\n",
       "      <td>...</td>\n",
       "      <td>6.115727</td>\n",
       "      <td>1.509740</td>\n",
       "      <td>0.521521</td>\n",
       "      <td>25.408413</td>\n",
       "      <td>125.295935</td>\n",
       "      <td>21548.650970</td>\n",
       "      <td>37.317909</td>\n",
       "      <td>65.893354</td>\n",
       "      <td>21.978000</td>\n",
       "      <td>0.000000</td>\n",
       "    </tr>\n",
       "    <tr>\n",
       "      <th>max</th>\n",
       "      <td>6.161666</td>\n",
       "      <td>28688.18766</td>\n",
       "      <td>1817.620554</td>\n",
       "      <td>630.518230</td>\n",
       "      <td>178.943634</td>\n",
       "      <td>38.270880</td>\n",
       "      <td>0.624529</td>\n",
       "      <td>38.971568</td>\n",
       "      <td>1463.693448</td>\n",
       "      <td>53060.599240</td>\n",
       "      <td>...</td>\n",
       "      <td>137.932739</td>\n",
       "      <td>1244.227020</td>\n",
       "      <td>31.365763</td>\n",
       "      <td>135.781294</td>\n",
       "      <td>1228.992706</td>\n",
       "      <td>143790.071200</td>\n",
       "      <td>69.154785</td>\n",
       "      <td>191.194764</td>\n",
       "      <td>21.978000</td>\n",
       "      <td>1.000000</td>\n",
       "    </tr>\n",
       "  </tbody>\n",
       "</table>\n",
       "<p>8 rows × 56 columns</p>\n",
       "</div>"
      ],
      "text/plain": [
       "               AB           AF           AH          AM          AR  \\\n",
       "count  431.000000    431.00000   431.000000  431.000000  431.000000   \n",
       "mean     0.476117   3476.37516   117.347844   36.493291    9.738576   \n",
       "std      0.503392   2446.89510   117.710487   59.377952    9.210571   \n",
       "min      0.081187    192.59328    85.200147    4.617627    8.138688   \n",
       "25%      0.252107   2163.96158    85.200147   12.036490    8.138688   \n",
       "50%      0.350386   3070.40404    85.200147   20.762288    8.138688   \n",
       "75%      0.540535   4258.15819   115.851472   37.620807    8.138688   \n",
       "max      6.161666  28688.18766  1817.620554  630.518230  178.943634   \n",
       "\n",
       "               AX          AY          AZ           BC           BD   ...  \\\n",
       "count  431.000000  431.000000  431.000000   431.000000    431.000000  ...   \n",
       "mean     5.584510    0.042854   10.591249     9.142564   5333.301827  ...   \n",
       "std      2.676082    0.052045    4.475822    77.206921   2921.550829  ...   \n",
       "min      0.699861    0.025578    3.396778     1.229900   1693.624320  ...   \n",
       "25%      4.181448    0.025578    8.139033     1.229900   4153.050190  ...   \n",
       "50%      5.023053    0.025578   10.442414     1.229900   5066.115430  ...   \n",
       "75%      6.387339    0.034256   12.988422     5.000422   6043.542118  ...   \n",
       "max     38.270880    0.624529   38.971568  1463.693448  53060.599240  ...   \n",
       "\n",
       "               FL           FR          FS          GB           GE  \\\n",
       "count  430.000000   431.000000  429.000000  431.000000   431.000000   \n",
       "mean     5.625919     4.494561    0.440734   20.723140   122.730342   \n",
       "std     12.899069    60.021787    1.541592   10.072465   119.919765   \n",
       "min      0.173229     0.497060    0.067730    4.874248    72.611063   \n",
       "25%      0.173229     0.497060    0.067730   14.501818    72.611063   \n",
       "50%      3.024156     1.131000    0.257374   18.669114    72.611063   \n",
       "75%      6.115727     1.509740    0.521521   25.408413   125.295935   \n",
       "max    137.932739  1244.227020   31.365763  135.781294  1228.992706   \n",
       "\n",
       "                  GF          GH          GI          GL       Class  \n",
       "count     431.000000  431.000000  431.000000  430.000000  431.000000  \n",
       "mean    15442.979644   31.845069   48.652089    8.566133    0.162413  \n",
       "std     20788.437041    9.742185   34.719641   10.329934    0.369258  \n",
       "min        13.038894    9.432735    0.897628    0.001129    0.000000  \n",
       "25%      2794.719186   25.239543   21.591297    0.135034    0.000000  \n",
       "50%      7863.793713   31.234074   39.927728    0.339429    0.000000  \n",
       "75%     21548.650970   37.317909   65.893354   21.978000    0.000000  \n",
       "max    143790.071200   69.154785  191.194764   21.978000    1.000000  \n",
       "\n",
       "[8 rows x 56 columns]"
      ]
     },
     "execution_count": 5,
     "metadata": {},
     "output_type": "execute_result"
    }
   ],
   "source": [
    "dataset_df.describe()"
   ]
  },
  {
   "cell_type": "code",
   "execution_count": 6,
   "metadata": {},
   "outputs": [
    {
     "data": {
      "text/plain": [
       "<Axes: ylabel='count'>"
      ]
     },
     "execution_count": 6,
     "metadata": {},
     "output_type": "execute_result"
    },
    {
     "data": {
      "image/png": "[encoded data removed]",
      "text/plain": [
       "<Figure size 640x480 with 1 Axes>"
      ]
     },
     "metadata": {},
     "output_type": "display_data"
    }
   ],
   "source": [
    "plot_df = dataset_df.Class.value_counts()\n",
    "plot_df.plot(kind=\"pie\")"
   ]
  },
  {
   "cell_type": "code",
   "execution_count": 7,
   "metadata": {},
   "outputs": [],
   "source": [
    "# Store all the numerical column names into a list\n",
    "NUM_FEATURE_COLUMNS = [i for i in dataset_df.columns if i not in [\"Id\", \"EJ\", \"Class\"]]"
   ]
  },
  {
   "cell_type": "code",
   "execution_count": 8,
   "metadata": {},
   "outputs": [
    {
     "data": {
      "text/plain": [
       "<Axes: xlabel='EJ', ylabel='count'>"
      ]
     },
     "execution_count": 8,
     "metadata": {},
     "output_type": "execute_result"
    },
    {
     "data": {
      "image/png": "[encoded data removed]",
      "text/plain": [
       "<Figure size 640x480 with 1 Axes>"
      ]
     },
     "metadata": {},
     "output_type": "display_data"
    }
   ],
   "source": [
    "sns.countplot(x='EJ', data=dataset_df)"
   ]
  },
  {
   "cell_type": "code",
   "execution_count": 9,
   "metadata": {},
   "outputs": [
    {
     "data": {
      "image/png": "[encoded data removed]",
      "text/plain": [
       "<Figure size 1500x1500 with 6 Axes>"
      ]
     },
     "metadata": {},
     "output_type": "display_data"
    }
   ],
   "source": [
    "figure, axis = plt.subplots(3, 2, figsize=(15, 15))\n",
    "plt.subplots_adjust(hspace=0.25, wspace=0.3)\n",
    "\n",
    "for i, column_name in enumerate(NUM_FEATURE_COLUMNS[:6]):\n",
    "    row = i//2\n",
    "    col = i % 2\n",
    "    bp = sns.barplot(ax=axis[row, col], x=dataset_df['Id'], y=dataset_df[column_name])\n",
    "    bp.set(xticklabels=[])\n",
    "    #bp.set_xticklabels(bp.get_xticklabels(), rotation=90, size = 7)\n",
    "    axis[row, col].set_title(column_name)\n",
    "plt.show()"
   ]
  },
  {
   "cell_type": "code",
   "execution_count": 10,
   "metadata": {},
   "outputs": [],
   "source": [
    "import numpy as np\n",
    "import pandas as pd\n",
    "from sklearn.compose import ColumnTransformer\n",
    "from sklearn.pipeline import Pipeline\n",
    "from sklearn.preprocessing import StandardScaler\n",
    "from sklearn.preprocessing import KBinsDiscretizer\n",
    "from imblearn.over_sampling import RandomOverSampler, SMOTE\n",
    "from sklearn.ensemble import RandomForestClassifier\n",
    "from sklearn.preprocessing import OneHotEncoder"
   ]
  },
  {
   "cell_type": "code",
   "execution_count": 11,
   "metadata": {},
   "outputs": [],
   "source": [
    "X = dataset_df.drop(['Id','Class'], axis =1)\n",
    "X = X.fillna(0)\n",
    "y= dataset_df['Class']"
   ]
  },
  {
   "cell_type": "code",
   "execution_count": 12,
   "metadata": {},
   "outputs": [],
   "source": [
    "X = pd.get_dummies(X, drop_first=True)\n",
    "X = X.fillna(0)"
   ]
  },
  {
   "cell_type": "code",
   "execution_count": 14,
   "metadata": {},
   "outputs": [
    {
     "data": {
      "text/html": [
       "<style>#sk-container-id-1 {color: black;background-color: white;}#sk-container-id-1 pre{padding: 0;}#sk-container-id-1 div.sk-toggleable {background-color: white;}#sk-container-id-1 label.sk-toggleable__label {cursor: pointer;display: block;width: 100%;margin-bottom: 0;padding: 0.3em;box-sizing: border-box;text-align: center;}#sk-container-id-1 label.sk-toggleable__label-arrow:before {content: \"▸\";float: left;margin-right: 0.25em;color: #696969;}#sk-container-id-1 label.sk-toggleable__label-arrow:hover:before {color: black;}#sk-container-id-1 div.sk-estimator:hover label.sk-toggleable__label-arrow:before {color: black;}#sk-container-id-1 div.sk-toggleable__content {max-height: 0;max-width: 0;overflow: hidden;text-align: left;background-color: #f0f8ff;}#sk-container-id-1 div.sk-toggleable__content pre {margin: 0.2em;color: black;border-radius: 0.25em;background-color: #f0f8ff;}#sk-container-id-1 input.sk-toggleable__control:checked~div.sk-toggleable__content {max-height: 200px;max-width: 100%;overflow: auto;}#sk-container-id-1 input.sk-toggleable__control:checked~label.sk-toggleable__label-arrow:before {content: \"▾\";}#sk-container-id-1 div.sk-estimator input.sk-toggleable__control:checked~label.sk-toggleable__label {background-color: #d4ebff;}#sk-container-id-1 div.sk-label input.sk-toggleable__control:checked~label.sk-toggleable__label {background-color: #d4ebff;}#sk-container-id-1 input.sk-hidden--visually {border: 0;clip: rect(1px 1px 1px 1px);clip: rect(1px, 1px, 1px, 1px);height: 1px;margin: -1px;overflow: hidden;padding: 0;position: absolute;width: 1px;}#sk-container-id-1 div.sk-estimator {font-family: monospace;background-color: #f0f8ff;border: 1px dotted black;border-radius: 0.25em;box-sizing: border-box;margin-bottom: 0.5em;}#sk-container-id-1 div.sk-estimator:hover {background-color: #d4ebff;}#sk-container-id-1 div.sk-parallel-item::after {content: \"\";width: 100%;border-bottom: 1px solid gray;flex-grow: 1;}#sk-container-id-1 div.sk-label:hover label.sk-toggleable__label {background-color: #d4ebff;}#sk-container-id-1 div.sk-serial::before {content: \"\";position: absolute;border-left: 1px solid gray;box-sizing: border-box;top: 0;bottom: 0;left: 50%;z-index: 0;}#sk-container-id-1 div.sk-serial {display: flex;flex-direction: column;align-items: center;background-color: white;padding-right: 0.2em;padding-left: 0.2em;position: relative;}#sk-container-id-1 div.sk-item {position: relative;z-index: 1;}#sk-container-id-1 div.sk-parallel {display: flex;align-items: stretch;justify-content: center;background-color: white;position: relative;}#sk-container-id-1 div.sk-item::before, #sk-container-id-1 div.sk-parallel-item::before {content: \"\";position: absolute;border-left: 1px solid gray;box-sizing: border-box;top: 0;bottom: 0;left: 50%;z-index: -1;}#sk-container-id-1 div.sk-parallel-item {display: flex;flex-direction: column;z-index: 1;position: relative;background-color: white;}#sk-container-id-1 div.sk-parallel-item:first-child::after {align-self: flex-end;width: 50%;}#sk-container-id-1 div.sk-parallel-item:last-child::after {align-self: flex-start;width: 50%;}#sk-container-id-1 div.sk-parallel-item:only-child::after {width: 0;}#sk-container-id-1 div.sk-dashed-wrapped {border: 1px dashed gray;margin: 0 0.4em 0.5em 0.4em;box-sizing: border-box;padding-bottom: 0.4em;background-color: white;}#sk-container-id-1 div.sk-label label {font-family: monospace;font-weight: bold;display: inline-block;line-height: 1.2em;}#sk-container-id-1 div.sk-label-container {text-align: center;}#sk-container-id-1 div.sk-container {/* jupyter's `normalize.less` sets `[hidden] { display: none; }` but bootstrap.min.css set `[hidden] { display: none !important; }` so we also need the `!important` here to be able to override the default hidden behavior on the sphinx rendered scikit-learn.org. See: https://github.com/scikit-learn/scikit-learn/issues/21755 */display: inline-block !important;position: relative;}#sk-container-id-1 div.sk-text-repr-fallback {display: none;}</style><div id=\"sk-container-id-1\" class=\"sk-top-container\"><div class=\"sk-text-repr-fallback\"><pre>RandomForestClassifier()</pre><b>In a Jupyter environment, please rerun this cell to show the HTML representation or trust the notebook. <br />On GitHub, the HTML representation is unable to render, please try loading this page with nbviewer.org.</b></div><div class=\"sk-container\" hidden><div class=\"sk-item\"><div class=\"sk-estimator sk-toggleable\"><input class=\"sk-toggleable__control sk-hidden--visually\" id=\"sk-estimator-id-1\" type=\"checkbox\" checked><label for=\"sk-estimator-id-1\" class=\"sk-toggleable__label sk-toggleable__label-arrow\">RandomForestClassifier</label><div class=\"sk-toggleable__content\"><pre>RandomForestClassifier()</pre></div></div></div></div></div>"
      ],
      "text/plain": [
       "RandomForestClassifier()"
      ]
     },
     "execution_count": 14,
     "metadata": {},
     "output_type": "execute_result"
    }
   ],
   "source": [
    "classifier = RandomForestClassifier()\n",
    "classifier.fit(X,y)"
   ]
  },
  {
   "cell_type": "code",
   "execution_count": 15,
   "metadata": {},
   "outputs": [],
   "source": [
    "from sklearn.metrics import classification_report\n"
   ]
  },
  {
   "cell_type": "code",
   "execution_count": 16,
   "metadata": {},
   "outputs": [],
   "source": [
    "test_data = pd.read_csv(\"data-splitted/validate_dataset.csv\")"
   ]
  },
  {
   "cell_type": "code",
   "execution_count": 17,
   "metadata": {},
   "outputs": [
    {
     "name": "stdout",
     "output_type": "stream",
     "text": [
      "              precision    recall  f1-score   support\n",
      "\n",
      "           0       0.93      1.00      0.96       148\n",
      "           1       1.00      0.71      0.83        38\n",
      "\n",
      "    accuracy                           0.94       186\n",
      "   macro avg       0.97      0.86      0.90       186\n",
      "weighted avg       0.94      0.94      0.94       186\n",
      "\n"
     ]
    }
   ],
   "source": [
    "test_data = test_data.fillna(0)\n",
    "test = pd.get_dummies(test_data.drop(['Id','Class'], axis=1), drop_first=True)\n",
    "y_pred = classifier.predict(test)\n",
    "print(classification_report(test_data['Class'], y_pred))"
   ]
  },
  {
   "cell_type": "code",
   "execution_count": 18,
   "metadata": {},
   "outputs": [],
   "source": [
    "X_train = X\n",
    "y_train = y\n",
    "X_test = test\n",
    "y_test = test_data['Class']"
   ]
  },
  {
   "cell_type": "code",
   "execution_count": 19,
   "metadata": {},
   "outputs": [],
   "source": [
    "import mlflow\n",
    "from mlflow.models import infer_signature\n",
    "import mlflow.sklearn\n",
    "from sklearn.model_selection import ParameterGrid\n",
    "import logging"
   ]
  },
  {
   "cell_type": "code",
   "execution_count": 20,
   "metadata": {},
   "outputs": [],
   "source": [
    "def get_experiment_id(experiment_name):\n",
    "    experiment = mlflow.get_experiment_by_name(experiment_name)\n",
    "    if experiment:\n",
    "        return experiment.experiment_id\n",
    "    else:\n",
    "        return mlflow.create_experiment(experiment_name)"
   ]
  },
  {
   "cell_type": "code",
   "execution_count": 23,
   "metadata": {},
   "outputs": [],
   "source": [
    "def train_models(X_train, X_test, y_train, y_test):\n",
    "    mlflow.set_tracking_uri(\"sqlite:///mlflow.db\")\n",
    "    experiment_id = get_experiment_id(\"age_identify_exp\")\n",
    "\n",
    "    models = [\n",
    "        {\"name\": \"RandomForest\",\n",
    "         \"model\": RandomForestClassifier(),\n",
    "         \"parameters\": {\"n_estimators\": [10, 50, 100], \"max_depth\": [None, 5, 10]}},\n",
    "    ]\n",
    "    for model_info in models:\n",
    "        model_name = model_info[\"name\"]\n",
    "        model = model_info[\"model\"]\n",
    "        param_grid = model_info[\"parameters\"]\n",
    "\n",
    "        for parameters in ParameterGrid(param_grid):\n",
    "            model.set_params(**parameters)\n",
    "            with mlflow.start_run(experiment_id=experiment_id):\n",
    "                model.fit(X_train, y_train)\n",
    "\n",
    "                predicted_classes = model.predict(X_test)\n",
    "\n",
    "                accuracy = accuracy_score(y_test, predicted_classes)\n",
    "                precision = precision_score(y_test, predicted_classes)\n",
    "                recall = recall_score(y_test, predicted_classes)\n",
    "                f1 = f1_score(y_test, predicted_classes)\n",
    "\n",
    "                print(f\"{model_name} model (parameters={parameters}):\")\n",
    "                print(\"  Accuracy: %s\" % accuracy)\n",
    "                print(\"  Precision: %s\" % precision)\n",
    "                print(\"  Recall: %s\" % recall)\n",
    "                print(\"  F1 Score: %s\" % f1)\n",
    "\n",
    "                mlflow.log_param(\"model_name\", model_name)\n",
    "                mlflow.log_params(parameters)\n",
    "                mlflow.log_metric(\"accuracy\", accuracy)\n",
    "                mlflow.log_metric(\"precision\", precision)\n",
    "                mlflow.log_metric(\"recall\", recall)\n",
    "                mlflow.log_metric(\"f1\", f1)\n",
    "\n",
    "                predictions = model.predict(X_train)\n",
    "                signature = infer_signature(X_train, predictions)\n",
    "\n",
    "                mlflow.sklearn.log_model(model, f\"{model_name}_model\", signature=signature)\n",
    "    "
   ]
  },
  {
   "cell_type": "code",
   "execution_count": 24,
   "metadata": {},
   "outputs": [
    {
     "name": "stdout",
     "output_type": "stream",
     "text": [
      "RandomForest model (parameters={'max_depth': None, 'n_estimators': 10}):\n",
      "  Accuracy: 0.8709677419354839\n",
      "  Precision: 0.85\n",
      "  Recall: 0.4473684210526316\n",
      "  F1 Score: 0.5862068965517242\n",
      "RandomForest model (parameters={'max_depth': None, 'n_estimators': 50}):\n",
      "  Accuracy: 0.9139784946236559\n",
      "  Precision: 1.0\n",
      "  Recall: 0.5789473684210527\n",
      "  F1 Score: 0.7333333333333334\n",
      "RandomForest model (parameters={'max_depth': None, 'n_estimators': 100}):\n",
      "  Accuracy: 0.9354838709677419\n",
      "  Precision: 1.0\n",
      "  Recall: 0.6842105263157895\n",
      "  F1 Score: 0.8125000000000001\n",
      "RandomForest model (parameters={'max_depth': 5, 'n_estimators': 10}):\n",
      "  Accuracy: 0.8978494623655914\n",
      "  Precision: 0.9130434782608695\n",
      "  Recall: 0.5526315789473685\n",
      "  F1 Score: 0.6885245901639344\n",
      "RandomForest model (parameters={'max_depth': 5, 'n_estimators': 50}):\n",
      "  Accuracy: 0.9032258064516129\n",
      "  Precision: 1.0\n",
      "  Recall: 0.5263157894736842\n",
      "  F1 Score: 0.6896551724137931\n",
      "RandomForest model (parameters={'max_depth': 5, 'n_estimators': 100}):\n",
      "  Accuracy: 0.9193548387096774\n",
      "  Precision: 1.0\n",
      "  Recall: 0.6052631578947368\n",
      "  F1 Score: 0.7540983606557378\n",
      "RandomForest model (parameters={'max_depth': 10, 'n_estimators': 10}):\n",
      "  Accuracy: 0.8978494623655914\n",
      "  Precision: 0.88\n",
      "  Recall: 0.5789473684210527\n",
      "  F1 Score: 0.6984126984126985\n",
      "RandomForest model (parameters={'max_depth': 10, 'n_estimators': 50}):\n",
      "  Accuracy: 0.9354838709677419\n",
      "  Precision: 0.9642857142857143\n",
      "  Recall: 0.7105263157894737\n",
      "  F1 Score: 0.8181818181818182\n",
      "RandomForest model (parameters={'max_depth': 10, 'n_estimators': 100}):\n",
      "  Accuracy: 0.9301075268817204\n",
      "  Precision: 0.9629629629629629\n",
      "  Recall: 0.6842105263157895\n",
      "  F1 Score: 0.7999999999999999\n"
     ]
    }
   ],
   "source": [
    "train_models(X_train, X_test, y_train, y_test)"
   ]
  },
  {
   "cell_type": "code",
   "execution_count": 25,
   "metadata": {},
   "outputs": [
    {
     "name": "stdout",
     "output_type": "stream",
     "text": [
      "params.max_depth                 10\n",
      "params.n_estimators              50\n",
      "params.model_name      RandomForest\n",
      "Name: 1, dtype: object metrics.f1           0.818182\n",
      "metrics.precision    0.964286\n",
      "metrics.accuracy     0.935484\n",
      "metrics.recall       0.710526\n",
      "Name: 1, dtype: object\n"
     ]
    }
   ],
   "source": [
    "experiment_id = get_experiment_id(\"age_identify_exp\")\n",
    "runs = mlflow.search_runs(experiment_ids=[experiment_id])\n",
    "\n",
    "# Sort by one of the metrics and get the top run\n",
    "best_run = runs.sort_values(\"metrics.f1\", ascending=False).iloc[0]\n",
    "\n",
    "params = best_run.loc[[name.startswith(\"params.\") for name in best_run.index]]\n",
    "metrics = best_run.loc[[name.startswith(\"metrics.\") for name in best_run.index]]\n",
    "\n",
    "print(params, metrics)"
   ]
  },
  {
   "cell_type": "code",
   "execution_count": 26,
   "metadata": {},
   "outputs": [
    {
     "name": "stdout",
     "output_type": "stream",
     "text": [
      "path runs:/c4fb2ab1ef604e828b191dd68e9d42cc/model\n"
     ]
    }
   ],
   "source": [
    "# Sort by one of the metrics and get the top run\n",
    "best_run = runs.sort_values(\"metrics.f1\", ascending=False).iloc[0]\n",
    "\n",
    "# Extract the run_id and artifact_uri for the best run\n",
    "run_id = best_run.run_id\n",
    "artifact_uri = f\"runs:/{run_id}/model\"  # The 'model' is the artifact name where the model is saved\n",
    "print(\"path\", artifact_uri)"
   ]
  },
  {
   "cell_type": "code",
   "execution_count": 27,
   "metadata": {},
   "outputs": [
    {
     "data": {
      "image/png": "[encoded data removed]",
      "text/plain": [
       "<Figure size 1200x600 with 1 Axes>"
      ]
     },
     "metadata": {},
     "output_type": "display_data"
    }
   ],
   "source": [
    "# Create a boxplot for F1 scores of each model\n",
    "plt.figure(figsize=(12, 6))\n",
    "sns.boxplot(data=runs, x='params.model_name', y='metrics.f1')\n",
    "plt.title('F1 Scores of Models')\n",
    "plt.xlabel('Model')\n",
    "plt.ylabel('F1 Score')\n",
    "plt.show()"
   ]
  },
  {
   "cell_type": "code",
   "execution_count": null,
   "metadata": {},
   "outputs": [],
   "source": [
    "# # Replace 'categorical_features' and 'numerical_features' with the names of your categorical and numerical features\n",
    "# categorical_features = ['EJ']\n",
    "# numerical_features = NUM_FEATURE_COLUMNS\n",
    "\n",
    "# # Define preprocessing steps for categorical and numerical features\n",
    "# categorical_preprocessor = Pipeline([\n",
    "#     #('woe_encoding', WOEEncoder()),  # Implement WOE encoding (custom implementation or use a library)\n",
    "#     ('dummy_encoding', OneHotEncoder(drop='first'), categorical_features)\n",
    "# ])\n",
    "\n",
    "# numerical_preprocessor = Pipeline([\n",
    "#     ('scaler', StandardScaler()),   # Standardize numerical features\n",
    "#     ('binning', KBinsDiscretizer(n_bins=10, encode='ordinal', strategy='quantile')),  # Binning\n",
    "# ])\n",
    "\n",
    "# # Combine preprocessor steps using ColumnTransformer\n",
    "# preprocessor = ColumnTransformer(\n",
    "#     transformers=[\n",
    "#         ('cat', categorical_preprocessor, categorical_features),\n",
    "#         ('num', numerical_preprocessor, numerical_features)\n",
    "#     ],\n",
    "#     #remainder='passthrough'\n",
    "# )\n",
    "\n",
    "\n",
    "# # Add oversampling using RandomOverSampler\n",
    "# #sampler = SMOTE()\n",
    "\n",
    "# # Define the Random Forest Classifier\n",
    "# classifier = RandomForestClassifier()\n",
    "\n",
    "# # Create the final pipeline by combining all steps\n",
    "# ml_pipeline = Pipeline([\n",
    "#     ('preprocessor', preprocessor),\n",
    "#    # ('sampler', SMOTE()),\n",
    "#     ('classifier', classifier)\n",
    "# ])\n"
   ]
  },
  {
   "cell_type": "code",
   "execution_count": null,
   "metadata": {},
   "outputs": [],
   "source": [
    "# from sklearn.model_selection import cross_val_score, StratifiedKFold\n",
    "# #cv = StratifiedKFold(n_splits=5, shuffle=True, random_state=42)\n",
    "\n",
    "# # Perform cross-validation and get evaluation scores for each fold\n",
    "# cross_val_scores = cross_val_score(pipeline, X, y, cv=cv, scoring='accuracy')\n",
    "\n",
    "# # Print the evaluation scores for each fold\n",
    "# print(\"Cross-validation scores:\", cross_val_scores)\n",
    "\n",
    "# # Print the mean and standard deviation of the cross-validation scores\n",
    "# print(\"Mean accuracy:\", cross_val_scores.mean())\n",
    "# print(\"Standard deviation:\", cross_val_scores.std())\n"
   ]
  },
  {
   "cell_type": "code",
   "execution_count": null,
   "metadata": {},
   "outputs": [],
   "source": []
  }
 ],
 "metadata": {
  "kernelspec": {
   "display_name": "Python 3 (ipykernel)",
   "language": "python",
   "name": "python3"
  },
  "language_info": {
   "codemirror_mode": {
    "name": "ipython",
    "version": 3
   },
   "file_extension": ".py",
   "mimetype": "text/x-python",
   "name": "python",
   "nbconvert_exporter": "python",
   "pygments_lexer": "ipython3",
   "version": "3.11.3"
  }
 },
 "nbformat": 4,
 "nbformat_minor": 4
}
